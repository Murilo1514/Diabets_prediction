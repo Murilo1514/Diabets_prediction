{
  "cells": [
    {
      "cell_type": "markdown",
      "metadata": {
        "id": "view-in-github",
        "colab_type": "text"
      },
      "source": [
        "<a href=\"https://colab.research.google.com/github/Murilo1514/Diabets_prediction_pipeline/blob/main_merge/SVM_teste.ipynb\" target=\"_parent\"><img src=\"https://colab.research.google.com/assets/colab-badge.svg\" alt=\"Open In Colab\"/></a>"
      ]
    },
    {
      "cell_type": "code",
      "execution_count": 6,
      "metadata": {
        "colab": {
          "base_uri": "https://localhost:8080/"
        },
        "id": "UAnTygW5DaUf",
        "outputId": "b714f8ea-54fa-48d2-9358-5c41df8e1f13"
      },
      "outputs": [
        {
          "output_type": "stream",
          "name": "stdout",
          "text": [
            "Collecting optuna\n",
            "  Downloading optuna-4.1.0-py3-none-any.whl.metadata (16 kB)\n",
            "Collecting alembic>=1.5.0 (from optuna)\n",
            "  Downloading alembic-1.14.0-py3-none-any.whl.metadata (7.4 kB)\n",
            "Collecting colorlog (from optuna)\n",
            "  Downloading colorlog-6.9.0-py3-none-any.whl.metadata (10 kB)\n",
            "Requirement already satisfied: numpy in /usr/local/lib/python3.10/dist-packages (from optuna) (1.26.4)\n",
            "Requirement already satisfied: packaging>=20.0 in /usr/local/lib/python3.10/dist-packages (from optuna) (24.2)\n",
            "Requirement already satisfied: sqlalchemy>=1.4.2 in /usr/local/lib/python3.10/dist-packages (from optuna) (2.0.36)\n",
            "Requirement already satisfied: tqdm in /usr/local/lib/python3.10/dist-packages (from optuna) (4.66.6)\n",
            "Requirement already satisfied: PyYAML in /usr/local/lib/python3.10/dist-packages (from optuna) (6.0.2)\n",
            "Collecting Mako (from alembic>=1.5.0->optuna)\n",
            "  Downloading Mako-1.3.6-py3-none-any.whl.metadata (2.9 kB)\n",
            "Requirement already satisfied: typing-extensions>=4 in /usr/local/lib/python3.10/dist-packages (from alembic>=1.5.0->optuna) (4.12.2)\n",
            "Requirement already satisfied: greenlet!=0.4.17 in /usr/local/lib/python3.10/dist-packages (from sqlalchemy>=1.4.2->optuna) (3.1.1)\n",
            "Requirement already satisfied: MarkupSafe>=0.9.2 in /usr/local/lib/python3.10/dist-packages (from Mako->alembic>=1.5.0->optuna) (3.0.2)\n",
            "Downloading optuna-4.1.0-py3-none-any.whl (364 kB)\n",
            "\u001b[2K   \u001b[90m━━━━━━━━━━━━━━━━━━━━━━━━━━━━━━━━━━━━━━━━\u001b[0m \u001b[32m364.4/364.4 kB\u001b[0m \u001b[31m8.3 MB/s\u001b[0m eta \u001b[36m0:00:00\u001b[0m\n",
            "\u001b[?25hDownloading alembic-1.14.0-py3-none-any.whl (233 kB)\n",
            "\u001b[2K   \u001b[90m━━━━━━━━━━━━━━━━━━━━━━━━━━━━━━━━━━━━━━━━\u001b[0m \u001b[32m233.5/233.5 kB\u001b[0m \u001b[31m17.6 MB/s\u001b[0m eta \u001b[36m0:00:00\u001b[0m\n",
            "\u001b[?25hDownloading colorlog-6.9.0-py3-none-any.whl (11 kB)\n",
            "Downloading Mako-1.3.6-py3-none-any.whl (78 kB)\n",
            "\u001b[2K   \u001b[90m━━━━━━━━━━━━━━━━━━━━━━━━━━━━━━━━━━━━━━━━\u001b[0m \u001b[32m78.6/78.6 kB\u001b[0m \u001b[31m6.1 MB/s\u001b[0m eta \u001b[36m0:00:00\u001b[0m\n",
            "\u001b[?25hInstalling collected packages: Mako, colorlog, alembic, optuna\n",
            "Successfully installed Mako-1.3.6 alembic-1.14.0 colorlog-6.9.0 optuna-4.1.0\n",
            "Collecting ucimlrepo\n",
            "  Downloading ucimlrepo-0.0.7-py3-none-any.whl.metadata (5.5 kB)\n",
            "Requirement already satisfied: pandas>=1.0.0 in /usr/local/lib/python3.10/dist-packages (from ucimlrepo) (2.2.2)\n",
            "Requirement already satisfied: certifi>=2020.12.5 in /usr/local/lib/python3.10/dist-packages (from ucimlrepo) (2024.8.30)\n",
            "Requirement already satisfied: numpy>=1.22.4 in /usr/local/lib/python3.10/dist-packages (from pandas>=1.0.0->ucimlrepo) (1.26.4)\n",
            "Requirement already satisfied: python-dateutil>=2.8.2 in /usr/local/lib/python3.10/dist-packages (from pandas>=1.0.0->ucimlrepo) (2.8.2)\n",
            "Requirement already satisfied: pytz>=2020.1 in /usr/local/lib/python3.10/dist-packages (from pandas>=1.0.0->ucimlrepo) (2024.2)\n",
            "Requirement already satisfied: tzdata>=2022.7 in /usr/local/lib/python3.10/dist-packages (from pandas>=1.0.0->ucimlrepo) (2024.2)\n",
            "Requirement already satisfied: six>=1.5 in /usr/local/lib/python3.10/dist-packages (from python-dateutil>=2.8.2->pandas>=1.0.0->ucimlrepo) (1.16.0)\n",
            "Downloading ucimlrepo-0.0.7-py3-none-any.whl (8.0 kB)\n",
            "Installing collected packages: ucimlrepo\n",
            "Successfully installed ucimlrepo-0.0.7\n"
          ]
        }
      ],
      "source": [
        "!pip install optuna\n",
        "!pip install ucimlrepo"
      ]
    },
    {
      "cell_type": "code",
      "execution_count": 1,
      "metadata": {
        "id": "G3NY1sQ1DdCq"
      },
      "outputs": [],
      "source": [
        "import numpy as np\n",
        "import matplotlib.pyplot as plt\n",
        "import pandas as pd\n",
        "import seaborn as sns\n",
        "import statsmodels.api as sm\n",
        "import optuna\n",
        "from plotly.io import show\n",
        "from sklearn.model_selection import train_test_split, GridSearchCV\n",
        "from sklearn.preprocessing import StandardScaler, OneHotEncoder, MinMaxScaler, FunctionTransformer, RobustScaler\n",
        "from sklearn.svm import SVC\n",
        "from sklearn.pipeline import Pipeline, FeatureUnion\n",
        "from sklearn.metrics import accuracy_score, f1_score, make_scorer, confusion_matrix, ConfusionMatrixDisplay, recall_score, precision_score\n",
        "from sklearn.compose import ColumnTransformer\n",
        "from ucimlrepo import fetch_ucirepo\n",
        "from functools import partial\n",
        "from sklearn.decomposition import PCA\n",
        "from sklearn.metrics import classification_report\n",
        "from imblearn.over_sampling import *\n",
        "from sklearn.model_selection import RepeatedStratifiedKFold\n",
        "from sklearn.model_selection import cross_val_score\n",
        "from sklearn.metrics import make_scorer, accuracy_score, precision_score, recall_score, f1_score, roc_auc_score\n",
        "from sklearn.preprocessing import StandardScaler\n",
        "\n",
        "\n"
      ]
    },
    {
      "cell_type": "markdown",
      "source": [
        "# Importando a Base de dados e separando 5%\n",
        "\n"
      ],
      "metadata": {
        "id": "wAvIRQW49dqM"
      }
    },
    {
      "cell_type": "code",
      "execution_count": 2,
      "metadata": {
        "colab": {
          "base_uri": "https://localhost:8080/"
        },
        "id": "89ckwreEDpa2",
        "outputId": "02223767-da15-42b8-a368-96129c2e1ba1"
      },
      "outputs": [
        {
          "output_type": "stream",
          "name": "stderr",
          "text": [
            "<ipython-input-2-0eb90a80a6c7>:6: SettingWithCopyWarning:\n",
            "\n",
            "\n",
            "A value is trying to be set on a copy of a slice from a DataFrame.\n",
            "Try using .loc[row_indexer,col_indexer] = value instead\n",
            "\n",
            "See the caveats in the documentation: https://pandas.pydata.org/pandas-docs/stable/user_guide/indexing.html#returning-a-view-versus-a-copy\n",
            "\n"
          ]
        },
        {
          "output_type": "execute_result",
          "data": {
            "text/plain": [
              "Index(['HighBP', 'HighChol', 'CholCheck', 'BMI', 'Smoker', 'Stroke',\n",
              "       'HeartDiseaseorAttack', 'PhysActivity', 'Fruits', 'Veggies',\n",
              "       'HvyAlcoholConsump', 'AnyHealthcare', 'NoDocbcCost', 'GenHlth',\n",
              "       'MentHlth', 'PhysHlth', 'DiffWalk', 'Sex', 'Age', 'Education', 'Income',\n",
              "       'Diabetes_binary'],\n",
              "      dtype='object')"
            ]
          },
          "metadata": {},
          "execution_count": 2
        }
      ],
      "source": [
        "cdc_diabetes_health_indicators = fetch_ucirepo(id=891)\n",
        "\n",
        "data = cdc_diabetes_health_indicators.data.features\n",
        "aux = cdc_diabetes_health_indicators.data.targets\n",
        "\n",
        "data[\"Diabetes_binary\"] = aux[\"Diabetes_binary\"]\n",
        "\n",
        "#print(cdc_diabetes_health_indicators.metadata)\n",
        "\n",
        "#print(cdc_diabetes_health_indicators.variables)\n",
        "\n",
        "data.columns"
      ]
    },
    {
      "cell_type": "code",
      "source": [
        "data['Age']=data['Age'].astype('int64')\n",
        "data['Education']=data['Education'].astype('int64')\n",
        "data['Income']=data['Income'].astype('int64')\n",
        "data['BMI']=data['BMI'].astype('int64')\n",
        "data['CholCheck']=data['CholCheck'].astype('int64')\n",
        "data['Smoker']=data['Smoker'].astype('int64')\n",
        "data['Stroke']=data['Stroke'].astype('int64')\n",
        "data['HeartDiseaseorAttack']=data['HeartDiseaseorAttack'].astype('int64')\n",
        "data['PhysActivity']=data['PhysActivity'].astype('int64')\n",
        "data['Fruits']=data['Fruits'].astype('int64')\n",
        "data['Veggies']=data['Veggies'].astype('int64')\n",
        "data['HvyAlcoholConsump']=data['HvyAlcoholConsump'].astype('int64')\n",
        "data['AnyHealthcare']=data['AnyHealthcare'].astype('int64')\n",
        "data['NoDocbcCost']=data['NoDocbcCost'].astype('int64')\n",
        "data['GenHlth']=data['GenHlth'].astype('int64')\n",
        "data['MentHlth']=data['MentHlth'].astype('int64')\n",
        "data['PhysHlth']=data['PhysHlth'].astype('int64')\n",
        "data['DiffWalk']=data['DiffWalk'].astype('int64')\n",
        "data['Sex']=data['Sex'].astype('int64')\n",
        "data['Diabetes_binary']=data['Diabetes_binary'].astype('int64')\n",
        "data['HighBP']=data['HighBP'].astype('int64')\n",
        "data['HighChol']=data['HighChol'].astype('int64')"
      ],
      "metadata": {
        "colab": {
          "base_uri": "https://localhost:8080/"
        },
        "collapsed": true,
        "id": "KbwMmeKbHcxO",
        "outputId": "dd825c3e-9893-4a0e-f9fb-f983145c3eae"
      },
      "execution_count": 3,
      "outputs": [
        {
          "output_type": "stream",
          "name": "stderr",
          "text": [
            "<ipython-input-3-bc92d329addf>:1: SettingWithCopyWarning:\n",
            "\n",
            "\n",
            "A value is trying to be set on a copy of a slice from a DataFrame.\n",
            "Try using .loc[row_indexer,col_indexer] = value instead\n",
            "\n",
            "See the caveats in the documentation: https://pandas.pydata.org/pandas-docs/stable/user_guide/indexing.html#returning-a-view-versus-a-copy\n",
            "\n",
            "<ipython-input-3-bc92d329addf>:2: SettingWithCopyWarning:\n",
            "\n",
            "\n",
            "A value is trying to be set on a copy of a slice from a DataFrame.\n",
            "Try using .loc[row_indexer,col_indexer] = value instead\n",
            "\n",
            "See the caveats in the documentation: https://pandas.pydata.org/pandas-docs/stable/user_guide/indexing.html#returning-a-view-versus-a-copy\n",
            "\n",
            "<ipython-input-3-bc92d329addf>:3: SettingWithCopyWarning:\n",
            "\n",
            "\n",
            "A value is trying to be set on a copy of a slice from a DataFrame.\n",
            "Try using .loc[row_indexer,col_indexer] = value instead\n",
            "\n",
            "See the caveats in the documentation: https://pandas.pydata.org/pandas-docs/stable/user_guide/indexing.html#returning-a-view-versus-a-copy\n",
            "\n",
            "<ipython-input-3-bc92d329addf>:4: SettingWithCopyWarning:\n",
            "\n",
            "\n",
            "A value is trying to be set on a copy of a slice from a DataFrame.\n",
            "Try using .loc[row_indexer,col_indexer] = value instead\n",
            "\n",
            "See the caveats in the documentation: https://pandas.pydata.org/pandas-docs/stable/user_guide/indexing.html#returning-a-view-versus-a-copy\n",
            "\n",
            "<ipython-input-3-bc92d329addf>:5: SettingWithCopyWarning:\n",
            "\n",
            "\n",
            "A value is trying to be set on a copy of a slice from a DataFrame.\n",
            "Try using .loc[row_indexer,col_indexer] = value instead\n",
            "\n",
            "See the caveats in the documentation: https://pandas.pydata.org/pandas-docs/stable/user_guide/indexing.html#returning-a-view-versus-a-copy\n",
            "\n",
            "<ipython-input-3-bc92d329addf>:6: SettingWithCopyWarning:\n",
            "\n",
            "\n",
            "A value is trying to be set on a copy of a slice from a DataFrame.\n",
            "Try using .loc[row_indexer,col_indexer] = value instead\n",
            "\n",
            "See the caveats in the documentation: https://pandas.pydata.org/pandas-docs/stable/user_guide/indexing.html#returning-a-view-versus-a-copy\n",
            "\n",
            "<ipython-input-3-bc92d329addf>:7: SettingWithCopyWarning:\n",
            "\n",
            "\n",
            "A value is trying to be set on a copy of a slice from a DataFrame.\n",
            "Try using .loc[row_indexer,col_indexer] = value instead\n",
            "\n",
            "See the caveats in the documentation: https://pandas.pydata.org/pandas-docs/stable/user_guide/indexing.html#returning-a-view-versus-a-copy\n",
            "\n",
            "<ipython-input-3-bc92d329addf>:8: SettingWithCopyWarning:\n",
            "\n",
            "\n",
            "A value is trying to be set on a copy of a slice from a DataFrame.\n",
            "Try using .loc[row_indexer,col_indexer] = value instead\n",
            "\n",
            "See the caveats in the documentation: https://pandas.pydata.org/pandas-docs/stable/user_guide/indexing.html#returning-a-view-versus-a-copy\n",
            "\n",
            "<ipython-input-3-bc92d329addf>:9: SettingWithCopyWarning:\n",
            "\n",
            "\n",
            "A value is trying to be set on a copy of a slice from a DataFrame.\n",
            "Try using .loc[row_indexer,col_indexer] = value instead\n",
            "\n",
            "See the caveats in the documentation: https://pandas.pydata.org/pandas-docs/stable/user_guide/indexing.html#returning-a-view-versus-a-copy\n",
            "\n",
            "<ipython-input-3-bc92d329addf>:10: SettingWithCopyWarning:\n",
            "\n",
            "\n",
            "A value is trying to be set on a copy of a slice from a DataFrame.\n",
            "Try using .loc[row_indexer,col_indexer] = value instead\n",
            "\n",
            "See the caveats in the documentation: https://pandas.pydata.org/pandas-docs/stable/user_guide/indexing.html#returning-a-view-versus-a-copy\n",
            "\n",
            "<ipython-input-3-bc92d329addf>:11: SettingWithCopyWarning:\n",
            "\n",
            "\n",
            "A value is trying to be set on a copy of a slice from a DataFrame.\n",
            "Try using .loc[row_indexer,col_indexer] = value instead\n",
            "\n",
            "See the caveats in the documentation: https://pandas.pydata.org/pandas-docs/stable/user_guide/indexing.html#returning-a-view-versus-a-copy\n",
            "\n",
            "<ipython-input-3-bc92d329addf>:12: SettingWithCopyWarning:\n",
            "\n",
            "\n",
            "A value is trying to be set on a copy of a slice from a DataFrame.\n",
            "Try using .loc[row_indexer,col_indexer] = value instead\n",
            "\n",
            "See the caveats in the documentation: https://pandas.pydata.org/pandas-docs/stable/user_guide/indexing.html#returning-a-view-versus-a-copy\n",
            "\n",
            "<ipython-input-3-bc92d329addf>:13: SettingWithCopyWarning:\n",
            "\n",
            "\n",
            "A value is trying to be set on a copy of a slice from a DataFrame.\n",
            "Try using .loc[row_indexer,col_indexer] = value instead\n",
            "\n",
            "See the caveats in the documentation: https://pandas.pydata.org/pandas-docs/stable/user_guide/indexing.html#returning-a-view-versus-a-copy\n",
            "\n",
            "<ipython-input-3-bc92d329addf>:14: SettingWithCopyWarning:\n",
            "\n",
            "\n",
            "A value is trying to be set on a copy of a slice from a DataFrame.\n",
            "Try using .loc[row_indexer,col_indexer] = value instead\n",
            "\n",
            "See the caveats in the documentation: https://pandas.pydata.org/pandas-docs/stable/user_guide/indexing.html#returning-a-view-versus-a-copy\n",
            "\n",
            "<ipython-input-3-bc92d329addf>:15: SettingWithCopyWarning:\n",
            "\n",
            "\n",
            "A value is trying to be set on a copy of a slice from a DataFrame.\n",
            "Try using .loc[row_indexer,col_indexer] = value instead\n",
            "\n",
            "See the caveats in the documentation: https://pandas.pydata.org/pandas-docs/stable/user_guide/indexing.html#returning-a-view-versus-a-copy\n",
            "\n",
            "<ipython-input-3-bc92d329addf>:16: SettingWithCopyWarning:\n",
            "\n",
            "\n",
            "A value is trying to be set on a copy of a slice from a DataFrame.\n",
            "Try using .loc[row_indexer,col_indexer] = value instead\n",
            "\n",
            "See the caveats in the documentation: https://pandas.pydata.org/pandas-docs/stable/user_guide/indexing.html#returning-a-view-versus-a-copy\n",
            "\n",
            "<ipython-input-3-bc92d329addf>:17: SettingWithCopyWarning:\n",
            "\n",
            "\n",
            "A value is trying to be set on a copy of a slice from a DataFrame.\n",
            "Try using .loc[row_indexer,col_indexer] = value instead\n",
            "\n",
            "See the caveats in the documentation: https://pandas.pydata.org/pandas-docs/stable/user_guide/indexing.html#returning-a-view-versus-a-copy\n",
            "\n",
            "<ipython-input-3-bc92d329addf>:18: SettingWithCopyWarning:\n",
            "\n",
            "\n",
            "A value is trying to be set on a copy of a slice from a DataFrame.\n",
            "Try using .loc[row_indexer,col_indexer] = value instead\n",
            "\n",
            "See the caveats in the documentation: https://pandas.pydata.org/pandas-docs/stable/user_guide/indexing.html#returning-a-view-versus-a-copy\n",
            "\n",
            "<ipython-input-3-bc92d329addf>:19: SettingWithCopyWarning:\n",
            "\n",
            "\n",
            "A value is trying to be set on a copy of a slice from a DataFrame.\n",
            "Try using .loc[row_indexer,col_indexer] = value instead\n",
            "\n",
            "See the caveats in the documentation: https://pandas.pydata.org/pandas-docs/stable/user_guide/indexing.html#returning-a-view-versus-a-copy\n",
            "\n",
            "<ipython-input-3-bc92d329addf>:20: SettingWithCopyWarning:\n",
            "\n",
            "\n",
            "A value is trying to be set on a copy of a slice from a DataFrame.\n",
            "Try using .loc[row_indexer,col_indexer] = value instead\n",
            "\n",
            "See the caveats in the documentation: https://pandas.pydata.org/pandas-docs/stable/user_guide/indexing.html#returning-a-view-versus-a-copy\n",
            "\n",
            "<ipython-input-3-bc92d329addf>:21: SettingWithCopyWarning:\n",
            "\n",
            "\n",
            "A value is trying to be set on a copy of a slice from a DataFrame.\n",
            "Try using .loc[row_indexer,col_indexer] = value instead\n",
            "\n",
            "See the caveats in the documentation: https://pandas.pydata.org/pandas-docs/stable/user_guide/indexing.html#returning-a-view-versus-a-copy\n",
            "\n",
            "<ipython-input-3-bc92d329addf>:22: SettingWithCopyWarning:\n",
            "\n",
            "\n",
            "A value is trying to be set on a copy of a slice from a DataFrame.\n",
            "Try using .loc[row_indexer,col_indexer] = value instead\n",
            "\n",
            "See the caveats in the documentation: https://pandas.pydata.org/pandas-docs/stable/user_guide/indexing.html#returning-a-view-versus-a-copy\n",
            "\n"
          ]
        }
      ]
    },
    {
      "cell_type": "code",
      "execution_count": 4,
      "metadata": {
        "colab": {
          "base_uri": "https://localhost:8080/"
        },
        "id": "48GTx8q5Cp_0",
        "outputId": "4be51d45-395a-4aa1-c6c3-9f94f1afdf34"
      },
      "outputs": [
        {
          "output_type": "stream",
          "name": "stderr",
          "text": [
            "<ipython-input-4-1ecf93f2f3f5>:3: SettingWithCopyWarning:\n",
            "\n",
            "\n",
            "A value is trying to be set on a copy of a slice from a DataFrame\n",
            "\n",
            "See the caveats in the documentation: https://pandas.pydata.org/pandas-docs/stable/user_guide/indexing.html#returning-a-view-versus-a-copy\n",
            "\n"
          ]
        }
      ],
      "source": [
        "data.duplicated().sum()\n",
        "\n",
        "data.drop_duplicates(inplace=True)"
      ]
    },
    {
      "cell_type": "code",
      "source": [
        "categorical_columns = ['GenHlth', 'Age', 'Education', 'Income']\n",
        "numerical_columns = ['BMI', 'MentHlth', 'PhysHlth']\n",
        "binary_columns = ['HighBP', 'HighChol', 'CholCheck', 'Smoker', 'Stroke', 'HeartDiseaseorAttack', 'PhysActivity', 'Fruits', 'Veggies', 'HvyAlcoholConsump', 'AnyHealthcare', 'NoDocbcCost', 'DiffWalk', 'Sex']\n",
        ""
      ],
      "metadata": {
        "id": "6dv3HxXpIjeS"
      },
      "execution_count": 5,
      "outputs": []
    },
    {
      "cell_type": "code",
      "source": [
        "data1 = data.sample(frac=0.05, random_state=42)\n",
        "\n",
        "x = data1.drop('Diabetes_binary', axis = 1)\n",
        "y = data1['Diabetes_binary']\n",
        ""
      ],
      "metadata": {
        "id": "cWiKi0DNJKrD"
      },
      "execution_count": 6,
      "outputs": []
    },
    {
      "cell_type": "code",
      "execution_count": 7,
      "metadata": {
        "id": "fkyC2AZ1Duut"
      },
      "outputs": [],
      "source": [
        "x_train, x_test, y_train, y_test = train_test_split(x, y, test_size=0.2, random_state=42, stratify=y)\n",
        "\n",
        "x_train, x_validation, y_train, y_validation = train_test_split(x_train, y_train, test_size=0.15, random_state=42, stratify=y_train)\n"
      ]
    },
    {
      "cell_type": "code",
      "source": [
        "scaler = StandardScaler()\n",
        "x_train = scaler.fit_transform(x_train)\n",
        "x_test = scaler.transform(x_test)"
      ],
      "metadata": {
        "id": "MK3DxA8pFW8E"
      },
      "execution_count": 8,
      "outputs": []
    },
    {
      "cell_type": "code",
      "execution_count": 9,
      "metadata": {
        "id": "Huu04LinEmNk"
      },
      "outputs": [],
      "source": [
        "preprocessor_svm = ColumnTransformer(\n",
        "    transformers=[\n",
        "        #('num', StandardScaler(), numerical_columns),\n",
        "        ('cat', OneHotEncoder(handle_unknown='ignore'), categorical_columns),\n",
        "        ('bin', 'passthrough', binary_columns)\n",
        "    ])\n",
        "\n",
        "pipeline = Pipeline([\n",
        "      #('outlier_remover', outlier_remover),\n",
        "      ('preprocessor_svm', preprocessor_svm),\n",
        "      ('svm', SVC()),\n",
        "      #('pca',pca)\n",
        "  ])\n"
      ]
    },
    {
      "cell_type": "markdown",
      "source": [
        "###                                Oversampling"
      ],
      "metadata": {
        "id": "jV0TVTAHf2Ey"
      }
    },
    {
      "cell_type": "code",
      "source": [
        "over_methods = [\n",
        "    ADASYN(random_state=7),\n",
        "    BorderlineSMOTE(random_state=7),\n",
        "    RandomOverSampler(random_state=7),\n",
        "    SMOTE(random_state=7),\n",
        "    SVMSMOTE(random_state=7)\n",
        "]\n"
      ],
      "metadata": {
        "id": "elDIdd3Lhnb0"
      },
      "execution_count": 10,
      "outputs": []
    },
    {
      "cell_type": "markdown",
      "source": [],
      "metadata": {
        "id": "RFS8f4zvgXxi"
      }
    },
    {
      "cell_type": "code",
      "source": [
        "classifiers =[\n",
        "    SVC()\n",
        "]\n",
        "\n"
      ],
      "metadata": {
        "id": "nUO6YaMKf1O9"
      },
      "execution_count": 11,
      "outputs": []
    },
    {
      "cell_type": "markdown",
      "source": [
        "Metricas para comparar os métodos"
      ],
      "metadata": {
        "id": "39FdGaR2sHS1"
      }
    },
    {
      "cell_type": "code",
      "source": [
        "metrics = {\n",
        "    'roc_auc': 'roc_auc',\n",
        "    'accuracy': make_scorer(accuracy_score),\n",
        "    'precision': make_scorer(precision_score),\n",
        "    'recall': make_scorer(recall_score),\n",
        "    'f1': make_scorer(f1_score)\n",
        "}"
      ],
      "metadata": {
        "id": "WAAfW7lksGrK"
      },
      "execution_count": 12,
      "outputs": []
    },
    {
      "cell_type": "code",
      "source": [
        "steps = [('model', SVC(kernel='sigmoid', C=733, gamma= 0.01  ))]\n",
        "pipeline = Pipeline(steps=steps)\n",
        "\n",
        "cv = RepeatedStratifiedKFold(n_splits=5, n_repeats=3, random_state=7)\n",
        "\n",
        "for metric_name, metric in metrics.items():\n",
        "    scores = cross_val_score(\n",
        "        pipeline, x_train, y_train, scoring=metric, cv=cv, n_jobs=-1\n",
        "    )\n",
        "    print(f\"{metric_name.upper()} for SVM is {round(np.mean(scores), 5)}\")\n",
        "\n",
        ""
      ],
      "metadata": {
        "colab": {
          "base_uri": "https://localhost:8080/"
        },
        "id": "azkEPGWQgMyF",
        "outputId": "2bbd0f78-32f6-4ff5-f1c3-8d06c4f85903"
      },
      "execution_count": 14,
      "outputs": [
        {
          "output_type": "stream",
          "name": "stdout",
          "text": [
            "ROC_AUC for SVM is 0.5806\n",
            "ACCURACY for SVM is 0.78292\n",
            "PRECISION for SVM is 0.30066\n",
            "RECALL for SVM is 0.2897\n",
            "F1 for SVM is 0.2948\n"
          ]
        }
      ]
    },
    {
      "cell_type": "code",
      "source": [
        "for classifier in classifiers:\n",
        "    for method in over_methods:\n",
        "        X_resampled, y_resampled = method.fit_resample(X, y)\n",
        "\n",
        "        pipeline = Pipeline([\n",
        "            ('scaler', StandardScaler()),\n",
        "            ('classifier', classifier)\n",
        "        ])\n",
        "\n",
        "        cv = RepeatedStratifiedKFold(n_splits=5, n_repeats=3, random_state=7)\n",
        "\n",
        "        for metric_name, metric in metrics.items():\n",
        "            scores = cross_val_score(\n",
        "                pipeline, X_resampled, y_resampled, scoring=metric, cv=cv, n_jobs=-1\n",
        "            )\n",
        "            print(f\"{metric_name.upper()} for {classifier.__class__.__name__} and {method.__class__.__name__} is {round(np.mean(scores), 5)}\")\n",
        "\n",
        ""
      ],
      "metadata": {
        "colab": {
          "base_uri": "https://localhost:8080/"
        },
        "id": "gXI8njysjE6d",
        "outputId": "0d74c181-3328-44a8-aff4-841f3581e12c"
      },
      "execution_count": 164,
      "outputs": [
        {
          "output_type": "stream",
          "name": "stdout",
          "text": [
            "ROC_AUC for SVC and ADASYN is 0.86367\n",
            "ACCURACY for SVC and ADASYN is 0.78555\n",
            "PRECISION for SVC and ADASYN is 0.76707\n",
            "RECALL for SVC and ADASYN is 0.81827\n",
            "F1 for SVC and ADASYN is 0.79182\n",
            "ROC_AUC for SVC and BorderlineSMOTE is 0.89333\n",
            "ACCURACY for SVC and BorderlineSMOTE is 0.81564\n",
            "PRECISION for SVC and BorderlineSMOTE is 0.78962\n",
            "RECALL for SVC and BorderlineSMOTE is 0.86064\n",
            "F1 for SVC and BorderlineSMOTE is 0.82357\n",
            "ROC_AUC for SVC and RandomOverSampler is 0.8769\n",
            "ACCURACY for SVC and RandomOverSampler is 0.8007\n",
            "PRECISION for SVC and RandomOverSampler is 0.77309\n",
            "RECALL for SVC and RandomOverSampler is 0.85131\n",
            "F1 for SVC and RandomOverSampler is 0.81029\n",
            "ROC_AUC for SVC and SMOTE is 0.87505\n",
            "ACCURACY for SVC and SMOTE is 0.79776\n",
            "PRECISION for SVC and SMOTE is 0.78069\n",
            "RECALL for SVC and SMOTE is 0.82831\n",
            "F1 for SVC and SMOTE is 0.80376\n",
            "ROC_AUC for SVC and SVMSMOTE is 0.90517\n",
            "ACCURACY for SVC and SVMSMOTE is 0.8292\n",
            "PRECISION for SVC and SVMSMOTE is 0.81418\n",
            "RECALL for SVC and SVMSMOTE is 0.85317\n",
            "F1 for SVC and SVMSMOTE is 0.8332\n"
          ]
        }
      ]
    },
    {
      "cell_type": "code",
      "source": [
        "method = BorderlineSMOTE(random_state=7)\n",
        "x_train_resampled, y_train_resampled = method.fit_resample(x_train, y_train)\n",
        "\n",
        "x_train, y_train = x_train_resampled, y_train_resampled"
      ],
      "metadata": {
        "id": "66SOfkjMvxzw"
      },
      "execution_count": 14,
      "outputs": []
    },
    {
      "cell_type": "code",
      "source": [
        "x_train.shape"
      ],
      "metadata": {
        "colab": {
          "base_uri": "https://localhost:8080/"
        },
        "id": "5-nScMHVLPKa",
        "outputId": "dcf6cbc9-b24a-4ffd-9c56-b77faad6894f"
      },
      "execution_count": 15,
      "outputs": [
        {
          "output_type": "execute_result",
          "data": {
            "text/plain": [
              "(13160, 21)"
            ]
          },
          "metadata": {},
          "execution_count": 15
        }
      ]
    },
    {
      "cell_type": "markdown",
      "source": [
        "## Testando acurácia antes de aplicar o PCA"
      ],
      "metadata": {
        "id": "cLhmaaTHwTYo"
      }
    },
    {
      "cell_type": "code",
      "source": [
        "column_names = numerical_columns + categorical_columns + binary_columns\n",
        "\n",
        "x_train = pd.DataFrame(x_train, columns=column_names)\n",
        "x_test = pd.DataFrame(x_test, columns=column_names)\n",
        "x_validation = pd.DataFrame(x_validation, columns=column_names)"
      ],
      "metadata": {
        "id": "OBQSZAhIMcaE"
      },
      "execution_count": 16,
      "outputs": []
    },
    {
      "cell_type": "code",
      "source": [
        "pipeline.fit(x_train, y_train)\n",
        "\n",
        "y_pred = pipeline.predict(x_test)\n",
        "accuracy = accuracy_score(y_test, y_pred)\n",
        "print(f'Acurácia com PCA ({21} componentes): {accuracy}')"
      ],
      "metadata": {
        "colab": {
          "base_uri": "https://localhost:8080/"
        },
        "outputId": "cf24485c-c659-44a5-aafc-a8db739b2124",
        "id": "yBhT_C6xwTYp"
      },
      "execution_count": 17,
      "outputs": [
        {
          "output_type": "stream",
          "name": "stdout",
          "text": [
            "Acurácia com PCA (21 componentes): 0.8235294117647058\n"
          ]
        }
      ]
    },
    {
      "cell_type": "code",
      "source": [
        "for i in range(1,22):\n",
        "  print(\"==========================================================\")\n",
        "  pca = PCA(n_components=i)\n",
        "\n",
        "  svm = SVC(kernel='sigmoid', gamma = 0.01, C=733)\n",
        "\n",
        "  ######################################################\n",
        "  pipeline = Pipeline([('pca', pca), ('svc', svm)])####\n",
        "  #####################################################\n",
        "\n",
        "  pipeline.fit(x_train, y_train)\n",
        "\n",
        "  y_pred = pipeline.predict(x_test)\n",
        "  accuracy = accuracy_score(y_test, y_pred)\n",
        "  print(f'Acurácia com PCA ({i} componentes): {accuracy}')\n"
      ],
      "metadata": {
        "colab": {
          "base_uri": "https://localhost:8080/"
        },
        "outputId": "afcca1af-edad-4488-c1f0-e23e97b0c4e1",
        "id": "yaFNWlJwwTYp"
      },
      "execution_count": null,
      "outputs": [
        {
          "output_type": "stream",
          "name": "stdout",
          "text": [
            "==========================================================\n",
            "Acurácia com PCA (1 componentes): 0.6069716775599129\n",
            "==========================================================\n",
            "Acurácia com PCA (2 componentes): 0.6104575163398693\n",
            "==========================================================\n",
            "Acurácia com PCA (3 componentes): 0.6204793028322441\n",
            "==========================================================\n"
          ]
        }
      ]
    },
    {
      "cell_type": "code",
      "source": [
        "def objective(trial):\n",
        "    pipeline = Pipeline([\n",
        "        ('preprocessor', preprocessor_svm),\n",
        "        ('svm', SVC())\n",
        "    ])\n",
        "\n",
        "    C = trial.suggest_categorical('C', [c for c in range(1, 1000, 1)])\n",
        "    gamma = trial.suggest_float('gamma', 0.01, 2, step=0.005)\n",
        "    kernel = trial.suggest_categorical('kernel', ['rbf', 'poly', 'sigmoid'])\n",
        "\n",
        "    pipeline.set_params(svm__C=C, svm__gamma=gamma, svm__kernel=kernel)\n",
        "\n",
        "    pipeline.fit(x_train, y_train)\n",
        "\n",
        "    y_pred = pipeline.predict(x_validation)\n",
        "    score = f1_score(y_validation, y_pred)\n",
        "\n",
        "    return score\n",
        "\n",
        "# Criar e otimizar o estudo\n",
        "study = optuna.create_study(direction='maximize')\n",
        "study.optimize(objective)\n",
        "\n",
        "# Exibir os melhores hiperparâmetros\n",
        "print(study.best_params)"
      ],
      "metadata": {
        "id": "EZUjQM54EcWf"
      },
      "execution_count": null,
      "outputs": []
    },
    {
      "cell_type": "code",
      "source": [
        "pipeline = Pipeline([\n",
        "      #('outlier_remover', outlier_remover),\n",
        "      ('preprocessor_svm', preprocessor_svm),\n",
        "      ('svm', SVC())\n",
        "  ])\n",
        "\n",
        "C = 900\n",
        "gamma = 0.11215038461268562\n",
        "kernel=  'sigmoid'\n",
        "\n",
        "pipeline.set_params(svm__C = C, svm__gamma = gamma, svm__kernel = kernel)\n",
        "pipeline.fit(x_train, y_train)\n",
        "\n",
        "y_pred = pipeline.predict(x_temp)\n",
        "score = f1_score(y_temp, y_pred)\n",
        "print(score)\n",
        "print(classification_report(y_temp, y_pred))\n"
      ],
      "metadata": {
        "colab": {
          "base_uri": "https://localhost:8080/",
          "height": 106
        },
        "id": "W9LxXvWSTpUH",
        "outputId": "b39e9e34-2f8f-4fb0-e318-2e60505a5875"
      },
      "execution_count": 67,
      "outputs": [
        {
          "output_type": "error",
          "ename": "SyntaxError",
          "evalue": "incomplete input (<ipython-input-67-81cfc10a30d3>, line 1)",
          "traceback": [
            "\u001b[0;36m  File \u001b[0;32m\"<ipython-input-67-81cfc10a30d3>\"\u001b[0;36m, line \u001b[0;32m1\u001b[0m\n\u001b[0;31m    \"\"\"pipeline = Pipeline([\u001b[0m\n\u001b[0m    ^\u001b[0m\n\u001b[0;31mSyntaxError\u001b[0m\u001b[0;31m:\u001b[0m incomplete input\n"
          ]
        }
      ]
    },
    {
      "cell_type": "code",
      "execution_count": 119,
      "metadata": {
        "id": "J-bAbmAhI-MG",
        "colab": {
          "base_uri": "https://localhost:8080/"
        },
        "outputId": "76e86b00-f689-48d5-c299-0ed69630fdcb"
      },
      "outputs": [
        {
          "output_type": "stream",
          "name": "stdout",
          "text": [
            "0.1935483870967742\n"
          ]
        }
      ],
      "source": [
        "print(score)"
      ]
    },
    {
      "cell_type": "code",
      "execution_count": 14,
      "metadata": {
        "id": "HVrCApYuaDA9",
        "colab": {
          "base_uri": "https://localhost:8080/"
        },
        "outputId": "83c62392-1669-42c7-d10d-a4ec85a3d7b7"
      },
      "outputs": [
        {
          "output_type": "stream",
          "name": "stdout",
          "text": [
            "[[124   8]\n",
            " [ 17   3]]\n"
          ]
        }
      ],
      "source": [
        "print(confusion_matrix(y_temp, y_pred))\n",
        "\n"
      ]
    },
    {
      "cell_type": "code",
      "source": [],
      "metadata": {
        "id": "b9RR2K0ZmNC9"
      },
      "execution_count": null,
      "outputs": []
    }
  ],
  "metadata": {
    "colab": {
      "provenance": [],
      "include_colab_link": true
    },
    "kernelspec": {
      "display_name": "Python 3",
      "name": "python3"
    },
    "language_info": {
      "name": "python"
    }
  },
  "nbformat": 4,
  "nbformat_minor": 0
}