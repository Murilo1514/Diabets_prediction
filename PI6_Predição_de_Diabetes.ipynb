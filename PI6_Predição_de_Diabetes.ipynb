{
  "nbformat": 4,
  "nbformat_minor": 0,
  "metadata": {
    "colab": {
      "provenance": []
    },
    "kernelspec": {
      "name": "python3",
      "display_name": "Python 3"
    },
    "language_info": {
      "name": "python"
    }
  },
  "cells": [
    {
      "cell_type": "markdown",
      "source": [
        "# Projeto Integrador 6 - Predição de Diabetes com Modelos de IA\n",
        "\n",
        "## Grupo 04"
      ],
      "metadata": {
        "id": "-KDTmYy-ABby"
      }
    },
    {
      "cell_type": "markdown",
      "source": [
        "# Import de Pacotes e Bibliotecas"
      ],
      "metadata": {
        "id": "0fi51cIuATaZ"
      }
    },
    {
      "cell_type": "code",
      "execution_count": 1,
      "metadata": {
        "colab": {
          "base_uri": "https://localhost:8080/"
        },
        "id": "0UhXBHd6_hFk",
        "outputId": "0eff8f4c-6631-49ae-b1ef-c91911d58679"
      },
      "outputs": [
        {
          "output_type": "stream",
          "name": "stdout",
          "text": [
            "Requirement already satisfied: optuna in /usr/local/lib/python3.10/dist-packages (4.1.0)\n",
            "Requirement already satisfied: alembic>=1.5.0 in /usr/local/lib/python3.10/dist-packages (from optuna) (1.14.0)\n",
            "Requirement already satisfied: colorlog in /usr/local/lib/python3.10/dist-packages (from optuna) (6.9.0)\n",
            "Requirement already satisfied: numpy in /usr/local/lib/python3.10/dist-packages (from optuna) (1.26.4)\n",
            "Requirement already satisfied: packaging>=20.0 in /usr/local/lib/python3.10/dist-packages (from optuna) (24.2)\n",
            "Requirement already satisfied: sqlalchemy>=1.4.2 in /usr/local/lib/python3.10/dist-packages (from optuna) (2.0.36)\n",
            "Requirement already satisfied: tqdm in /usr/local/lib/python3.10/dist-packages (from optuna) (4.66.6)\n",
            "Requirement already satisfied: PyYAML in /usr/local/lib/python3.10/dist-packages (from optuna) (6.0.2)\n",
            "Requirement already satisfied: Mako in /usr/local/lib/python3.10/dist-packages (from alembic>=1.5.0->optuna) (1.3.6)\n",
            "Requirement already satisfied: typing-extensions>=4 in /usr/local/lib/python3.10/dist-packages (from alembic>=1.5.0->optuna) (4.12.2)\n",
            "Requirement already satisfied: greenlet!=0.4.17 in /usr/local/lib/python3.10/dist-packages (from sqlalchemy>=1.4.2->optuna) (3.1.1)\n",
            "Requirement already satisfied: MarkupSafe>=0.9.2 in /usr/local/lib/python3.10/dist-packages (from Mako->alembic>=1.5.0->optuna) (3.0.2)\n",
            "Requirement already satisfied: ucimlrepo in /usr/local/lib/python3.10/dist-packages (0.0.7)\n",
            "Requirement already satisfied: pandas>=1.0.0 in /usr/local/lib/python3.10/dist-packages (from ucimlrepo) (2.2.2)\n",
            "Requirement already satisfied: certifi>=2020.12.5 in /usr/local/lib/python3.10/dist-packages (from ucimlrepo) (2024.8.30)\n",
            "Requirement already satisfied: numpy>=1.22.4 in /usr/local/lib/python3.10/dist-packages (from pandas>=1.0.0->ucimlrepo) (1.26.4)\n",
            "Requirement already satisfied: python-dateutil>=2.8.2 in /usr/local/lib/python3.10/dist-packages (from pandas>=1.0.0->ucimlrepo) (2.8.2)\n",
            "Requirement already satisfied: pytz>=2020.1 in /usr/local/lib/python3.10/dist-packages (from pandas>=1.0.0->ucimlrepo) (2024.2)\n",
            "Requirement already satisfied: tzdata>=2022.7 in /usr/local/lib/python3.10/dist-packages (from pandas>=1.0.0->ucimlrepo) (2024.2)\n",
            "Requirement already satisfied: six>=1.5 in /usr/local/lib/python3.10/dist-packages (from python-dateutil>=2.8.2->pandas>=1.0.0->ucimlrepo) (1.16.0)\n"
          ]
        }
      ],
      "source": [
        "!pip install optuna\n",
        "!pip install ucimlrepo"
      ]
    },
    {
      "cell_type": "code",
      "source": [
        "import warnings\n",
        "import math\n",
        "import numpy as np\n",
        "import matplotlib.pyplot as plt\n",
        "import pandas as pd\n",
        "import seaborn as sns\n",
        "import statsmodels.api as sm\n",
        "import optuna\n",
        "from plotly.io import show\n",
        "from sklearn.model_selection import train_test_split, GridSearchCV\n",
        "from sklearn.preprocessing import StandardScaler, OneHotEncoder, MinMaxScaler, FunctionTransformer, RobustScaler\n",
        "from sklearn.neighbors import KNeighborsClassifier\n",
        "from sklearn.linear_model import LogisticRegression\n",
        "from sklearn.svm import SVC\n",
        "from sklearn.pipeline import Pipeline, FeatureUnion\n",
        "from sklearn.metrics import accuracy_score, f1_score, make_scorer, confusion_matrix, ConfusionMatrixDisplay, recall_score, precision_score\n",
        "from sklearn.compose import ColumnTransformer\n",
        "from sklearn.decomposition import PCA\n",
        "from ucimlrepo import fetch_ucirepo\n",
        "from functools import partial\n",
        "\n",
        "\n",
        "warnings.filterwarnings('ignore') #Ignorar warnigs\n",
        "\n",
        "# organizar os imports - explicar o motivo deles"
      ],
      "metadata": {
        "id": "K02DVmz1AaLo"
      },
      "execution_count": 23,
      "outputs": []
    },
    {
      "cell_type": "markdown",
      "source": [
        "# Load Dataset"
      ],
      "metadata": {
        "id": "FlRDHkxVAnsX"
      }
    },
    {
      "cell_type": "code",
      "source": [
        "cdc_diabetes_health_indicators = fetch_ucirepo(id=891)\n",
        "\n",
        "data = cdc_diabetes_health_indicators.data.features\n",
        "aux = cdc_diabetes_health_indicators.data.targets\n",
        "\n",
        "data[\"Diabetes_binary\"] = aux[\"Diabetes_binary\"]\n",
        "\n",
        "print(cdc_diabetes_health_indicators.metadata)\n",
        "\n",
        "print(cdc_diabetes_health_indicators.variables)\n",
        "\n",
        "data.columns"
      ],
      "metadata": {
        "colab": {
          "base_uri": "https://localhost:8080/"
        },
        "id": "seRVGm5iAmmD",
        "outputId": "51cc441b-3a84-43fc-d03e-a70b0c0ca974"
      },
      "execution_count": 3,
      "outputs": [
        {
          "output_type": "stream",
          "name": "stdout",
          "text": [
            "{'uci_id': 891, 'name': 'CDC Diabetes Health Indicators', 'repository_url': 'https://archive.ics.uci.edu/dataset/891/cdc+diabetes+health+indicators', 'data_url': 'https://archive.ics.uci.edu/static/public/891/data.csv', 'abstract': 'The Diabetes Health Indicators Dataset contains healthcare statistics and lifestyle survey information about people in general along with their diagnosis of diabetes. The 35 features consist of some demographics, lab test results, and answers to survey questions for each patient. The target variable for classification is whether a patient has diabetes, is pre-diabetic, or healthy. ', 'area': 'Health and Medicine', 'tasks': ['Classification'], 'characteristics': ['Tabular', 'Multivariate'], 'num_instances': 253680, 'num_features': 21, 'feature_types': ['Categorical', 'Integer'], 'demographics': ['Sex', 'Age', 'Education Level', 'Income'], 'target_col': ['Diabetes_binary'], 'index_col': ['ID'], 'has_missing_values': 'no', 'missing_values_symbol': None, 'year_of_dataset_creation': 2017, 'last_updated': 'Fri Nov 03 2023', 'dataset_doi': '10.24432/C53919', 'creators': [], 'intro_paper': {'ID': 308, 'type': 'NATIVE', 'title': 'Incidence of End-Stage Renal Disease Attributed to Diabetes Among Persons with Diagnosed Diabetes — United States and Puerto Rico, 2000–2014', 'authors': 'Nilka Rios Burrows, MPH; Israel Hora, PhD; Linda S. Geiss, MA; Edward W. Gregg, PhD; Ann Albright, PhD', 'venue': 'Morbidity and Mortality Weekly Report', 'year': 2017, 'journal': None, 'DOI': None, 'URL': 'https://www.cdc.gov/mmwr/volumes/66/wr/mm6643a2.htm', 'sha': None, 'corpus': None, 'arxiv': None, 'mag': None, 'acl': None, 'pmid': None, 'pmcid': None}, 'additional_info': {'summary': 'Dataset link: https://www.cdc.gov/brfss/annual_data/annual_2014.html', 'purpose': 'To better understand the relationship between  lifestyle and diabetes in the US', 'funded_by': 'The CDC', 'instances_represent': 'Each row represents a person participating in this study.', 'recommended_data_splits': 'Cross validation or a fixed train-test split could be used.', 'sensitive_data': '- Gender\\n- Income\\n- Education level', 'preprocessing_description': 'Bucketing of age', 'variable_info': '- Diabetes diagnosis\\n- Demographics (race, sex)\\n- Personal information (income, educations)\\n- Health history (drinking, smoking, mental health, physical health)', 'citation': None}, 'external_url': 'https://www.kaggle.com/datasets/alexteboul/diabetes-health-indicators-dataset'}\n",
            "                    name     role     type      demographic  \\\n",
            "0                     ID       ID  Integer             None   \n",
            "1        Diabetes_binary   Target   Binary             None   \n",
            "2                 HighBP  Feature   Binary             None   \n",
            "3               HighChol  Feature   Binary             None   \n",
            "4              CholCheck  Feature   Binary             None   \n",
            "5                    BMI  Feature  Integer             None   \n",
            "6                 Smoker  Feature   Binary             None   \n",
            "7                 Stroke  Feature   Binary             None   \n",
            "8   HeartDiseaseorAttack  Feature   Binary             None   \n",
            "9           PhysActivity  Feature   Binary             None   \n",
            "10                Fruits  Feature   Binary             None   \n",
            "11               Veggies  Feature   Binary             None   \n",
            "12     HvyAlcoholConsump  Feature   Binary             None   \n",
            "13         AnyHealthcare  Feature   Binary             None   \n",
            "14           NoDocbcCost  Feature   Binary             None   \n",
            "15               GenHlth  Feature  Integer             None   \n",
            "16              MentHlth  Feature  Integer             None   \n",
            "17              PhysHlth  Feature  Integer             None   \n",
            "18              DiffWalk  Feature   Binary             None   \n",
            "19                   Sex  Feature   Binary              Sex   \n",
            "20                   Age  Feature  Integer              Age   \n",
            "21             Education  Feature  Integer  Education Level   \n",
            "22                Income  Feature  Integer           Income   \n",
            "\n",
            "                                          description units missing_values  \n",
            "0                                          Patient ID  None             no  \n",
            "1         0 = no diabetes 1 = prediabetes or diabetes  None             no  \n",
            "2                          0 = no high BP 1 = high BP  None             no  \n",
            "3        0 = no high cholesterol 1 = high cholesterol  None             no  \n",
            "4   0 = no cholesterol check in 5 years 1 = yes ch...  None             no  \n",
            "5                                     Body Mass Index  None             no  \n",
            "6   Have you smoked at least 100 cigarettes in you...  None             no  \n",
            "7        (Ever told) you had a stroke. 0 = no 1 = yes  None             no  \n",
            "8   coronary heart disease (CHD) or myocardial inf...  None             no  \n",
            "9   physical activity in past 30 days - not includ...  None             no  \n",
            "10  Consume Fruit 1 or more times per day 0 = no 1...  None             no  \n",
            "11  Consume Vegetables 1 or more times per day 0 =...  None             no  \n",
            "12  Heavy drinkers (adult men having more than 14 ...  None             no  \n",
            "13  Have any kind of health care coverage, includi...  None             no  \n",
            "14  Was there a time in the past 12 months when yo...  None             no  \n",
            "15  Would you say that in general your health is: ...  None             no  \n",
            "16  Now thinking about your mental health, which i...  None             no  \n",
            "17  Now thinking about your physical health, which...  None             no  \n",
            "18  Do you have serious difficulty walking or clim...  None             no  \n",
            "19                                0 = female 1 = male  None             no  \n",
            "20  13-level age category (_AGEG5YR see codebook) ...  None             no  \n",
            "21  Education level (EDUCA see codebook) scale 1-6...  None             no  \n",
            "22  Income scale (INCOME2 see codebook) scale 1-8 ...  None             no  \n"
          ]
        },
        {
          "output_type": "execute_result",
          "data": {
            "text/plain": [
              "Index(['HighBP', 'HighChol', 'CholCheck', 'BMI', 'Smoker', 'Stroke',\n",
              "       'HeartDiseaseorAttack', 'PhysActivity', 'Fruits', 'Veggies',\n",
              "       'HvyAlcoholConsump', 'AnyHealthcare', 'NoDocbcCost', 'GenHlth',\n",
              "       'MentHlth', 'PhysHlth', 'DiffWalk', 'Sex', 'Age', 'Education', 'Income',\n",
              "       'Diabetes_binary'],\n",
              "      dtype='object')"
            ]
          },
          "metadata": {},
          "execution_count": 3
        }
      ]
    },
    {
      "cell_type": "markdown",
      "source": [
        "# Pré-Processamento"
      ],
      "metadata": {
        "id": "fIhep7vyqWd_"
      }
    },
    {
      "cell_type": "markdown",
      "source": [
        "## Transformação do data type para integer"
      ],
      "metadata": {
        "id": "INnLIzLE3Kak"
      }
    },
    {
      "cell_type": "code",
      "source": [
        "data['Age']=data['Age'].astype('int64')\n",
        "data['Education']=data['Education'].astype('int64')\n",
        "data['Income']=data['Income'].astype('int64')\n",
        "data['BMI']=data['BMI'].astype('int64')\n",
        "data['CholCheck']=data['CholCheck'].astype('int64')\n",
        "data['Smoker']=data['Smoker'].astype('int64')\n",
        "data['Stroke']=data['Stroke'].astype('int64')\n",
        "data['HeartDiseaseorAttack']=data['HeartDiseaseorAttack'].astype('int64')\n",
        "data['PhysActivity']=data['PhysActivity'].astype('int64')\n",
        "data['Fruits']=data['Fruits'].astype('int64')\n",
        "data['Veggies']=data['Veggies'].astype('int64')\n",
        "data['HvyAlcoholConsump']=data['HvyAlcoholConsump'].astype('int64')\n",
        "data['AnyHealthcare']=data['AnyHealthcare'].astype('int64')\n",
        "data['NoDocbcCost']=data['NoDocbcCost'].astype('int64')\n",
        "data['GenHlth']=data['GenHlth'].astype('int64')\n",
        "data['MentHlth']=data['MentHlth'].astype('int64')\n",
        "data['PhysHlth']=data['PhysHlth'].astype('int64')\n",
        "data['DiffWalk']=data['DiffWalk'].astype('int64')\n",
        "data['Sex']=data['Sex'].astype('int64')\n",
        "data['Diabetes_binary']=data['Diabetes_binary'].astype('int64')\n",
        "data['HighBP']=data['HighBP'].astype('int64')\n",
        "data['HighChol']=data['HighChol'].astype('int64')"
      ],
      "metadata": {
        "id": "GAeq1vaxqb9h"
      },
      "execution_count": 4,
      "outputs": []
    },
    {
      "cell_type": "markdown",
      "source": [
        "## Remoção de duplicatas"
      ],
      "metadata": {
        "id": "oKJru3793QQD"
      }
    },
    {
      "cell_type": "code",
      "source": [
        "data.duplicated().sum()"
      ],
      "metadata": {
        "colab": {
          "base_uri": "https://localhost:8080/"
        },
        "id": "iD3tx5-23YBE",
        "outputId": "1e8c21af-1ab5-4a39-e39f-a973bed5bcfb"
      },
      "execution_count": 5,
      "outputs": [
        {
          "output_type": "execute_result",
          "data": {
            "text/plain": [
              "24206"
            ]
          },
          "metadata": {},
          "execution_count": 5
        }
      ]
    },
    {
      "cell_type": "code",
      "source": [
        "data.drop_duplicates(inplace=True)"
      ],
      "metadata": {
        "id": "2RXe53z83cJH"
      },
      "execution_count": 7,
      "outputs": []
    },
    {
      "cell_type": "code",
      "source": [
        "data.shape"
      ],
      "metadata": {
        "colab": {
          "base_uri": "https://localhost:8080/"
        },
        "id": "JCQZBELY3d9E",
        "outputId": "758505af-3039-4021-95f7-097ff5917994"
      },
      "execution_count": 6,
      "outputs": [
        {
          "output_type": "execute_result",
          "data": {
            "text/plain": [
              "(253680, 22)"
            ]
          },
          "metadata": {},
          "execution_count": 6
        }
      ]
    },
    {
      "cell_type": "code",
      "source": [
        "\n",
        "data.head()"
      ],
      "metadata": {
        "colab": {
          "base_uri": "https://localhost:8080/",
          "height": 235
        },
        "id": "zoYEHycuq8N5",
        "outputId": "a6a02a0e-988a-4f27-b4c7-c9507eceea29"
      },
      "execution_count": 9,
      "outputs": [
        {
          "output_type": "execute_result",
          "data": {
            "text/plain": [
              "   HighBP  HighChol  CholCheck  BMI  Smoker  Stroke  HeartDiseaseorAttack  \\\n",
              "0       1         1          1   40       1       0                     0   \n",
              "1       0         0          0   25       1       0                     0   \n",
              "2       1         1          1   28       0       0                     0   \n",
              "3       1         0          1   27       0       0                     0   \n",
              "4       1         1          1   24       0       0                     0   \n",
              "\n",
              "   PhysActivity  Fruits  Veggies  ...  NoDocbcCost  GenHlth  MentHlth  \\\n",
              "0             0       0        1  ...            0        5        18   \n",
              "1             1       0        0  ...            1        3         0   \n",
              "2             0       1        0  ...            1        5        30   \n",
              "3             1       1        1  ...            0        2         0   \n",
              "4             1       1        1  ...            0        2         3   \n",
              "\n",
              "   PhysHlth  DiffWalk  Sex  Age  Education  Income  Diabetes_binary  \n",
              "0        15         1    0    9          4       3                0  \n",
              "1         0         0    0    7          6       1                0  \n",
              "2        30         1    0    9          4       8                0  \n",
              "3         0         0    0   11          3       6                0  \n",
              "4         0         0    0   11          5       4                0  \n",
              "\n",
              "[5 rows x 22 columns]"
            ],
            "text/html": [
              "\n",
              "  <div id=\"df-e92a34c9-b6c2-4552-a932-6f78e4bd6f8d\" class=\"colab-df-container\">\n",
              "    <div>\n",
              "<style scoped>\n",
              "    .dataframe tbody tr th:only-of-type {\n",
              "        vertical-align: middle;\n",
              "    }\n",
              "\n",
              "    .dataframe tbody tr th {\n",
              "        vertical-align: top;\n",
              "    }\n",
              "\n",
              "    .dataframe thead th {\n",
              "        text-align: right;\n",
              "    }\n",
              "</style>\n",
              "<table border=\"1\" class=\"dataframe\">\n",
              "  <thead>\n",
              "    <tr style=\"text-align: right;\">\n",
              "      <th></th>\n",
              "      <th>HighBP</th>\n",
              "      <th>HighChol</th>\n",
              "      <th>CholCheck</th>\n",
              "      <th>BMI</th>\n",
              "      <th>Smoker</th>\n",
              "      <th>Stroke</th>\n",
              "      <th>HeartDiseaseorAttack</th>\n",
              "      <th>PhysActivity</th>\n",
              "      <th>Fruits</th>\n",
              "      <th>Veggies</th>\n",
              "      <th>...</th>\n",
              "      <th>NoDocbcCost</th>\n",
              "      <th>GenHlth</th>\n",
              "      <th>MentHlth</th>\n",
              "      <th>PhysHlth</th>\n",
              "      <th>DiffWalk</th>\n",
              "      <th>Sex</th>\n",
              "      <th>Age</th>\n",
              "      <th>Education</th>\n",
              "      <th>Income</th>\n",
              "      <th>Diabetes_binary</th>\n",
              "    </tr>\n",
              "  </thead>\n",
              "  <tbody>\n",
              "    <tr>\n",
              "      <th>0</th>\n",
              "      <td>1</td>\n",
              "      <td>1</td>\n",
              "      <td>1</td>\n",
              "      <td>40</td>\n",
              "      <td>1</td>\n",
              "      <td>0</td>\n",
              "      <td>0</td>\n",
              "      <td>0</td>\n",
              "      <td>0</td>\n",
              "      <td>1</td>\n",
              "      <td>...</td>\n",
              "      <td>0</td>\n",
              "      <td>5</td>\n",
              "      <td>18</td>\n",
              "      <td>15</td>\n",
              "      <td>1</td>\n",
              "      <td>0</td>\n",
              "      <td>9</td>\n",
              "      <td>4</td>\n",
              "      <td>3</td>\n",
              "      <td>0</td>\n",
              "    </tr>\n",
              "    <tr>\n",
              "      <th>1</th>\n",
              "      <td>0</td>\n",
              "      <td>0</td>\n",
              "      <td>0</td>\n",
              "      <td>25</td>\n",
              "      <td>1</td>\n",
              "      <td>0</td>\n",
              "      <td>0</td>\n",
              "      <td>1</td>\n",
              "      <td>0</td>\n",
              "      <td>0</td>\n",
              "      <td>...</td>\n",
              "      <td>1</td>\n",
              "      <td>3</td>\n",
              "      <td>0</td>\n",
              "      <td>0</td>\n",
              "      <td>0</td>\n",
              "      <td>0</td>\n",
              "      <td>7</td>\n",
              "      <td>6</td>\n",
              "      <td>1</td>\n",
              "      <td>0</td>\n",
              "    </tr>\n",
              "    <tr>\n",
              "      <th>2</th>\n",
              "      <td>1</td>\n",
              "      <td>1</td>\n",
              "      <td>1</td>\n",
              "      <td>28</td>\n",
              "      <td>0</td>\n",
              "      <td>0</td>\n",
              "      <td>0</td>\n",
              "      <td>0</td>\n",
              "      <td>1</td>\n",
              "      <td>0</td>\n",
              "      <td>...</td>\n",
              "      <td>1</td>\n",
              "      <td>5</td>\n",
              "      <td>30</td>\n",
              "      <td>30</td>\n",
              "      <td>1</td>\n",
              "      <td>0</td>\n",
              "      <td>9</td>\n",
              "      <td>4</td>\n",
              "      <td>8</td>\n",
              "      <td>0</td>\n",
              "    </tr>\n",
              "    <tr>\n",
              "      <th>3</th>\n",
              "      <td>1</td>\n",
              "      <td>0</td>\n",
              "      <td>1</td>\n",
              "      <td>27</td>\n",
              "      <td>0</td>\n",
              "      <td>0</td>\n",
              "      <td>0</td>\n",
              "      <td>1</td>\n",
              "      <td>1</td>\n",
              "      <td>1</td>\n",
              "      <td>...</td>\n",
              "      <td>0</td>\n",
              "      <td>2</td>\n",
              "      <td>0</td>\n",
              "      <td>0</td>\n",
              "      <td>0</td>\n",
              "      <td>0</td>\n",
              "      <td>11</td>\n",
              "      <td>3</td>\n",
              "      <td>6</td>\n",
              "      <td>0</td>\n",
              "    </tr>\n",
              "    <tr>\n",
              "      <th>4</th>\n",
              "      <td>1</td>\n",
              "      <td>1</td>\n",
              "      <td>1</td>\n",
              "      <td>24</td>\n",
              "      <td>0</td>\n",
              "      <td>0</td>\n",
              "      <td>0</td>\n",
              "      <td>1</td>\n",
              "      <td>1</td>\n",
              "      <td>1</td>\n",
              "      <td>...</td>\n",
              "      <td>0</td>\n",
              "      <td>2</td>\n",
              "      <td>3</td>\n",
              "      <td>0</td>\n",
              "      <td>0</td>\n",
              "      <td>0</td>\n",
              "      <td>11</td>\n",
              "      <td>5</td>\n",
              "      <td>4</td>\n",
              "      <td>0</td>\n",
              "    </tr>\n",
              "  </tbody>\n",
              "</table>\n",
              "<p>5 rows × 22 columns</p>\n",
              "</div>\n",
              "    <div class=\"colab-df-buttons\">\n",
              "\n",
              "  <div class=\"colab-df-container\">\n",
              "    <button class=\"colab-df-convert\" onclick=\"convertToInteractive('df-e92a34c9-b6c2-4552-a932-6f78e4bd6f8d')\"\n",
              "            title=\"Convert this dataframe to an interactive table.\"\n",
              "            style=\"display:none;\">\n",
              "\n",
              "  <svg xmlns=\"http://www.w3.org/2000/svg\" height=\"24px\" viewBox=\"0 -960 960 960\">\n",
              "    <path d=\"M120-120v-720h720v720H120Zm60-500h600v-160H180v160Zm220 220h160v-160H400v160Zm0 220h160v-160H400v160ZM180-400h160v-160H180v160Zm440 0h160v-160H620v160ZM180-180h160v-160H180v160Zm440 0h160v-160H620v160Z\"/>\n",
              "  </svg>\n",
              "    </button>\n",
              "\n",
              "  <style>\n",
              "    .colab-df-container {\n",
              "      display:flex;\n",
              "      gap: 12px;\n",
              "    }\n",
              "\n",
              "    .colab-df-convert {\n",
              "      background-color: #E8F0FE;\n",
              "      border: none;\n",
              "      border-radius: 50%;\n",
              "      cursor: pointer;\n",
              "      display: none;\n",
              "      fill: #1967D2;\n",
              "      height: 32px;\n",
              "      padding: 0 0 0 0;\n",
              "      width: 32px;\n",
              "    }\n",
              "\n",
              "    .colab-df-convert:hover {\n",
              "      background-color: #E2EBFA;\n",
              "      box-shadow: 0px 1px 2px rgba(60, 64, 67, 0.3), 0px 1px 3px 1px rgba(60, 64, 67, 0.15);\n",
              "      fill: #174EA6;\n",
              "    }\n",
              "\n",
              "    .colab-df-buttons div {\n",
              "      margin-bottom: 4px;\n",
              "    }\n",
              "\n",
              "    [theme=dark] .colab-df-convert {\n",
              "      background-color: #3B4455;\n",
              "      fill: #D2E3FC;\n",
              "    }\n",
              "\n",
              "    [theme=dark] .colab-df-convert:hover {\n",
              "      background-color: #434B5C;\n",
              "      box-shadow: 0px 1px 3px 1px rgba(0, 0, 0, 0.15);\n",
              "      filter: drop-shadow(0px 1px 2px rgba(0, 0, 0, 0.3));\n",
              "      fill: #FFFFFF;\n",
              "    }\n",
              "  </style>\n",
              "\n",
              "    <script>\n",
              "      const buttonEl =\n",
              "        document.querySelector('#df-e92a34c9-b6c2-4552-a932-6f78e4bd6f8d button.colab-df-convert');\n",
              "      buttonEl.style.display =\n",
              "        google.colab.kernel.accessAllowed ? 'block' : 'none';\n",
              "\n",
              "      async function convertToInteractive(key) {\n",
              "        const element = document.querySelector('#df-e92a34c9-b6c2-4552-a932-6f78e4bd6f8d');\n",
              "        const dataTable =\n",
              "          await google.colab.kernel.invokeFunction('convertToInteractive',\n",
              "                                                    [key], {});\n",
              "        if (!dataTable) return;\n",
              "\n",
              "        const docLinkHtml = 'Like what you see? Visit the ' +\n",
              "          '<a target=\"_blank\" href=https://colab.research.google.com/notebooks/data_table.ipynb>data table notebook</a>'\n",
              "          + ' to learn more about interactive tables.';\n",
              "        element.innerHTML = '';\n",
              "        dataTable['output_type'] = 'display_data';\n",
              "        await google.colab.output.renderOutput(dataTable, element);\n",
              "        const docLink = document.createElement('div');\n",
              "        docLink.innerHTML = docLinkHtml;\n",
              "        element.appendChild(docLink);\n",
              "      }\n",
              "    </script>\n",
              "  </div>\n",
              "\n",
              "\n",
              "<div id=\"df-43ce7afd-1f71-421e-a13b-37a0ac662596\">\n",
              "  <button class=\"colab-df-quickchart\" onclick=\"quickchart('df-43ce7afd-1f71-421e-a13b-37a0ac662596')\"\n",
              "            title=\"Suggest charts\"\n",
              "            style=\"display:none;\">\n",
              "\n",
              "<svg xmlns=\"http://www.w3.org/2000/svg\" height=\"24px\"viewBox=\"0 0 24 24\"\n",
              "     width=\"24px\">\n",
              "    <g>\n",
              "        <path d=\"M19 3H5c-1.1 0-2 .9-2 2v14c0 1.1.9 2 2 2h14c1.1 0 2-.9 2-2V5c0-1.1-.9-2-2-2zM9 17H7v-7h2v7zm4 0h-2V7h2v10zm4 0h-2v-4h2v4z\"/>\n",
              "    </g>\n",
              "</svg>\n",
              "  </button>\n",
              "\n",
              "<style>\n",
              "  .colab-df-quickchart {\n",
              "      --bg-color: #E8F0FE;\n",
              "      --fill-color: #1967D2;\n",
              "      --hover-bg-color: #E2EBFA;\n",
              "      --hover-fill-color: #174EA6;\n",
              "      --disabled-fill-color: #AAA;\n",
              "      --disabled-bg-color: #DDD;\n",
              "  }\n",
              "\n",
              "  [theme=dark] .colab-df-quickchart {\n",
              "      --bg-color: #3B4455;\n",
              "      --fill-color: #D2E3FC;\n",
              "      --hover-bg-color: #434B5C;\n",
              "      --hover-fill-color: #FFFFFF;\n",
              "      --disabled-bg-color: #3B4455;\n",
              "      --disabled-fill-color: #666;\n",
              "  }\n",
              "\n",
              "  .colab-df-quickchart {\n",
              "    background-color: var(--bg-color);\n",
              "    border: none;\n",
              "    border-radius: 50%;\n",
              "    cursor: pointer;\n",
              "    display: none;\n",
              "    fill: var(--fill-color);\n",
              "    height: 32px;\n",
              "    padding: 0;\n",
              "    width: 32px;\n",
              "  }\n",
              "\n",
              "  .colab-df-quickchart:hover {\n",
              "    background-color: var(--hover-bg-color);\n",
              "    box-shadow: 0 1px 2px rgba(60, 64, 67, 0.3), 0 1px 3px 1px rgba(60, 64, 67, 0.15);\n",
              "    fill: var(--button-hover-fill-color);\n",
              "  }\n",
              "\n",
              "  .colab-df-quickchart-complete:disabled,\n",
              "  .colab-df-quickchart-complete:disabled:hover {\n",
              "    background-color: var(--disabled-bg-color);\n",
              "    fill: var(--disabled-fill-color);\n",
              "    box-shadow: none;\n",
              "  }\n",
              "\n",
              "  .colab-df-spinner {\n",
              "    border: 2px solid var(--fill-color);\n",
              "    border-color: transparent;\n",
              "    border-bottom-color: var(--fill-color);\n",
              "    animation:\n",
              "      spin 1s steps(1) infinite;\n",
              "  }\n",
              "\n",
              "  @keyframes spin {\n",
              "    0% {\n",
              "      border-color: transparent;\n",
              "      border-bottom-color: var(--fill-color);\n",
              "      border-left-color: var(--fill-color);\n",
              "    }\n",
              "    20% {\n",
              "      border-color: transparent;\n",
              "      border-left-color: var(--fill-color);\n",
              "      border-top-color: var(--fill-color);\n",
              "    }\n",
              "    30% {\n",
              "      border-color: transparent;\n",
              "      border-left-color: var(--fill-color);\n",
              "      border-top-color: var(--fill-color);\n",
              "      border-right-color: var(--fill-color);\n",
              "    }\n",
              "    40% {\n",
              "      border-color: transparent;\n",
              "      border-right-color: var(--fill-color);\n",
              "      border-top-color: var(--fill-color);\n",
              "    }\n",
              "    60% {\n",
              "      border-color: transparent;\n",
              "      border-right-color: var(--fill-color);\n",
              "    }\n",
              "    80% {\n",
              "      border-color: transparent;\n",
              "      border-right-color: var(--fill-color);\n",
              "      border-bottom-color: var(--fill-color);\n",
              "    }\n",
              "    90% {\n",
              "      border-color: transparent;\n",
              "      border-bottom-color: var(--fill-color);\n",
              "    }\n",
              "  }\n",
              "</style>\n",
              "\n",
              "  <script>\n",
              "    async function quickchart(key) {\n",
              "      const quickchartButtonEl =\n",
              "        document.querySelector('#' + key + ' button');\n",
              "      quickchartButtonEl.disabled = true;  // To prevent multiple clicks.\n",
              "      quickchartButtonEl.classList.add('colab-df-spinner');\n",
              "      try {\n",
              "        const charts = await google.colab.kernel.invokeFunction(\n",
              "            'suggestCharts', [key], {});\n",
              "      } catch (error) {\n",
              "        console.error('Error during call to suggestCharts:', error);\n",
              "      }\n",
              "      quickchartButtonEl.classList.remove('colab-df-spinner');\n",
              "      quickchartButtonEl.classList.add('colab-df-quickchart-complete');\n",
              "    }\n",
              "    (() => {\n",
              "      let quickchartButtonEl =\n",
              "        document.querySelector('#df-43ce7afd-1f71-421e-a13b-37a0ac662596 button');\n",
              "      quickchartButtonEl.style.display =\n",
              "        google.colab.kernel.accessAllowed ? 'block' : 'none';\n",
              "    })();\n",
              "  </script>\n",
              "</div>\n",
              "\n",
              "    </div>\n",
              "  </div>\n"
            ],
            "application/vnd.google.colaboratory.intrinsic+json": {
              "type": "dataframe",
              "variable_name": "data"
            }
          },
          "metadata": {},
          "execution_count": 9
        }
      ]
    },
    {
      "cell_type": "markdown",
      "source": [
        "## Divisão dos tipos de Variáveis"
      ],
      "metadata": {
        "id": "NpqyA9vp38oX"
      }
    },
    {
      "cell_type": "code",
      "source": [
        "categorical_columns = ['GenHlth', 'Age', 'Education', 'Income']\n",
        "numerical_columns = ['BMI', 'MentHlth', 'PhysHlth']\n",
        "binary_columns = ['HighBP', 'HighChol', 'CholCheck', 'Smoker', 'Stroke', 'HeartDiseaseorAttack', 'PhysActivity', 'Fruits', 'Veggies', 'HvyAlcoholConsump', 'AnyHealthcare', 'NoDocbcCost', 'DiffWalk', 'Sex']"
      ],
      "metadata": {
        "id": "P3lhVRNkrE8f"
      },
      "execution_count": 16,
      "outputs": []
    },
    {
      "cell_type": "markdown",
      "source": [
        "# Divisão de Dados - Treino, Validação e Teste"
      ],
      "metadata": {
        "id": "yT0_TbM8IMbM"
      }
    },
    {
      "cell_type": "markdown",
      "source": [
        "Optamos por realizar o estudo do optuna com a base sampleada para economizar tempo, uma vez que cada tentativa de execução superava o tempo limite do colab."
      ],
      "metadata": {
        "id": "ZGlrM1U_DjkQ"
      }
    },
    {
      "cell_type": "code",
      "source": [
        "data1 = data.sample(frac=0.05, random_state=42) # Base de dados sampleada\n",
        "\n",
        "x = data1.drop('Diabetes_binary', axis = 1)\n",
        "y = data1['Diabetes_binary']"
      ],
      "metadata": {
        "id": "AddRNnt0IK6L"
      },
      "execution_count": 17,
      "outputs": []
    },
    {
      "cell_type": "code",
      "source": [
        "x_train, x_test, y_train, y_test = train_test_split(x, y, test_size=0.2, random_state=42, stratify=y)\n",
        "\n",
        "x_train, x_validation, y_train, y_validation = train_test_split(x_train, y_train, test_size=0.15, random_state=42, stratify=y_train)\n",
        "\n",
        "\n",
        "print(\"Treino\\n\",y_train.value_counts())\n",
        "print(\"\\nValidação \\n\",y_validation.value_counts())\n",
        "print(\"\\nTeste\\n\",y_test.value_counts())"
      ],
      "metadata": {
        "colab": {
          "base_uri": "https://localhost:8080/"
        },
        "id": "RuGnvs5iIY0i",
        "outputId": "2b34e70c-6863-44bc-9dc6-54ceaa94511a"
      },
      "execution_count": 18,
      "outputs": [
        {
          "output_type": "stream",
          "name": "stdout",
          "text": [
            "Treino\n",
            " Diabetes_binary\n",
            "0    7451\n",
            "1    1173\n",
            "Name: count, dtype: int64\n",
            "\n",
            "Validação \n",
            " Diabetes_binary\n",
            "0    1316\n",
            "1     207\n",
            "Name: count, dtype: int64\n",
            "\n",
            "Teste\n",
            " Diabetes_binary\n",
            "0    2192\n",
            "1     345\n",
            "Name: count, dtype: int64\n"
          ]
        }
      ]
    },
    {
      "cell_type": "markdown",
      "source": [
        "## PCA"
      ],
      "metadata": {
        "id": "dKQTAa36Wobo"
      }
    },
    {
      "cell_type": "code",
      "source": [
        "pca = PCA(n_components=5)\n",
        "pca.fit(x_train)\n",
        "X_train = pca.fit_transform(x_train)\n",
        "X_test = pca.fit_transform(x_test)\n",
        "\n",
        "X_train = pd.DataFrame(X_train)\n",
        "X_test = pd.DataFrame(X_test)"
      ],
      "metadata": {
        "id": "R_cXoaXujLVb"
      },
      "execution_count": 14,
      "outputs": []
    },
    {
      "cell_type": "markdown",
      "source": [
        "# Modelos"
      ],
      "metadata": {
        "id": "eSu4IBldKfqB"
      }
    },
    {
      "cell_type": "markdown",
      "source": [
        "## KNN"
      ],
      "metadata": {
        "id": "71hP6dLcLcfF"
      }
    },
    {
      "cell_type": "code",
      "source": [
        "preprocessor_knn = ColumnTransformer(\n",
        "    transformers=[\n",
        "        ('num', MinMaxScaler(), numerical_columns),\n",
        "        ('cat', OneHotEncoder(), categorical_columns),\n",
        "        ('bin', 'passthrough', binary_columns)\n",
        "    ])\n",
        "\n",
        "knn_pipeline = Pipeline([\n",
        "    ('preprocessor', preprocessor_knn),\n",
        "    ('classifier', KNeighborsClassifier())\n",
        "])"
      ],
      "metadata": {
        "id": "HfLn6TnpKikH"
      },
      "execution_count": 19,
      "outputs": []
    },
    {
      "cell_type": "code",
      "source": [
        "def objective_knn(trial):\n",
        "    pipeline = Pipeline([\n",
        "        ('preprocessor', preprocessor_knn),\n",
        "        ('knn', KNeighborsClassifier())\n",
        "    ])\n",
        "    k = trial.suggest_int('k', 2, 25)\n",
        "    weights = trial.suggest_categorical('weights', ['uniform', 'distance'])\n",
        "    metric = trial.suggest_categorical('metric', ['euclidean', 'manhattan', 'minkowski'])\n",
        "    pipeline.set_params(knn__n_neighbors=k, knn__weights=weights, knn__metric=metric)\n",
        "    pipeline.fit(x_train, y_train)\n",
        "\n",
        "    y_pred = pipeline.predict(x_validation)\n",
        "    score = f1_score(y_validation, y_pred)\n",
        "    return score\n",
        "\n",
        "\n",
        "\n",
        "\n",
        "study_knn = optuna.create_study(direction='maximize')\n",
        "study_knn.optimize(objective_knn, n_trials=100, n_jobs=-1)\n",
        "\n",
        "study_knn.best_params"
      ],
      "metadata": {
        "colab": {
          "base_uri": "https://localhost:8080/"
        },
        "id": "Cl8HgKo9Lsb2",
        "outputId": "13cc118e-60ed-418f-efc0-4bfa59cc7fe6"
      },
      "execution_count": 20,
      "outputs": [
        {
          "output_type": "stream",
          "name": "stderr",
          "text": [
            "[I 2024-11-23 19:50:31,594] A new study created in memory with name: no-name-7b76c87c-7a4f-414d-8199-5e03647af8cd\n",
            "[I 2024-11-23 19:50:31,928] Trial 1 finished with value: 0.24489795918367346 and parameters: {'k': 8, 'weights': 'distance', 'metric': 'minkowski'}. Best is trial 1 with value: 0.24489795918367346.\n",
            "[I 2024-11-23 19:50:32,279] Trial 0 finished with value: 0.1532258064516129 and parameters: {'k': 17, 'weights': 'uniform', 'metric': 'euclidean'}. Best is trial 1 with value: 0.24489795918367346.\n",
            "[I 2024-11-23 19:50:32,592] Trial 2 finished with value: 0.1532258064516129 and parameters: {'k': 17, 'weights': 'uniform', 'metric': 'euclidean'}. Best is trial 1 with value: 0.24489795918367346.\n",
            "[I 2024-11-23 19:50:32,859] Trial 3 finished with value: 0.12903225806451613 and parameters: {'k': 8, 'weights': 'uniform', 'metric': 'euclidean'}. Best is trial 1 with value: 0.24489795918367346.\n",
            "[I 2024-11-23 19:50:33,046] Trial 4 finished with value: 0.1532258064516129 and parameters: {'k': 17, 'weights': 'uniform', 'metric': 'euclidean'}. Best is trial 1 with value: 0.24489795918367346.\n",
            "[I 2024-11-23 19:50:33,285] Trial 6 finished with value: 0.1087866108786611 and parameters: {'k': 23, 'weights': 'uniform', 'metric': 'minkowski'}. Best is trial 1 with value: 0.24489795918367346.\n",
            "[I 2024-11-23 19:50:34,150] Trial 5 finished with value: 0.152 and parameters: {'k': 4, 'weights': 'uniform', 'metric': 'manhattan'}. Best is trial 1 with value: 0.24489795918367346.\n",
            "[I 2024-11-23 19:50:34,369] Trial 8 finished with value: 0.24489795918367346 and parameters: {'k': 8, 'weights': 'distance', 'metric': 'minkowski'}. Best is trial 1 with value: 0.24489795918367346.\n",
            "[I 2024-11-23 19:50:34,510] Trial 7 finished with value: 0.13545816733067728 and parameters: {'k': 22, 'weights': 'distance', 'metric': 'manhattan'}. Best is trial 1 with value: 0.24489795918367346.\n",
            "[I 2024-11-23 19:50:34,606] Trial 9 finished with value: 0.09361702127659574 and parameters: {'k': 16, 'weights': 'uniform', 'metric': 'minkowski'}. Best is trial 1 with value: 0.24489795918367346.\n",
            "[I 2024-11-23 19:50:34,753] Trial 10 finished with value: 0.24489795918367346 and parameters: {'k': 8, 'weights': 'distance', 'metric': 'euclidean'}. Best is trial 1 with value: 0.24489795918367346.\n",
            "[I 2024-11-23 19:50:34,857] Trial 11 finished with value: 0.17582417582417584 and parameters: {'k': 11, 'weights': 'distance', 'metric': 'minkowski'}. Best is trial 1 with value: 0.24489795918367346.\n",
            "[I 2024-11-23 19:50:35,019] Trial 12 finished with value: 0.20216606498194944 and parameters: {'k': 9, 'weights': 'distance', 'metric': 'minkowski'}. Best is trial 1 with value: 0.24489795918367346.\n",
            "[I 2024-11-23 19:50:35,150] Trial 13 finished with value: 0.29673590504451036 and parameters: {'k': 3, 'weights': 'distance', 'metric': 'minkowski'}. Best is trial 13 with value: 0.29673590504451036.\n",
            "[I 2024-11-23 19:50:35,273] Trial 14 finished with value: 0.3160493827160494 and parameters: {'k': 2, 'weights': 'distance', 'metric': 'minkowski'}. Best is trial 14 with value: 0.3160493827160494.\n",
            "[I 2024-11-23 19:50:35,408] Trial 15 finished with value: 0.28484848484848485 and parameters: {'k': 4, 'weights': 'distance', 'metric': 'minkowski'}. Best is trial 14 with value: 0.3160493827160494.\n",
            "[I 2024-11-23 19:50:35,531] Trial 16 finished with value: 0.3160493827160494 and parameters: {'k': 2, 'weights': 'distance', 'metric': 'minkowski'}. Best is trial 14 with value: 0.3160493827160494.\n",
            "[I 2024-11-23 19:50:35,651] Trial 17 finished with value: 0.3160493827160494 and parameters: {'k': 2, 'weights': 'distance', 'metric': 'minkowski'}. Best is trial 14 with value: 0.3160493827160494.\n",
            "[I 2024-11-23 19:50:36,708] Trial 18 finished with value: 0.3057644110275689 and parameters: {'k': 2, 'weights': 'distance', 'metric': 'manhattan'}. Best is trial 14 with value: 0.3160493827160494.\n",
            "[I 2024-11-23 19:50:36,830] Trial 19 finished with value: 0.27388535031847133 and parameters: {'k': 5, 'weights': 'distance', 'metric': 'manhattan'}. Best is trial 14 with value: 0.3160493827160494.\n",
            "[I 2024-11-23 19:50:36,944] Trial 20 finished with value: 0.2597402597402597 and parameters: {'k': 5, 'weights': 'distance', 'metric': 'minkowski'}. Best is trial 14 with value: 0.3160493827160494.\n",
            "[I 2024-11-23 19:50:37,124] Trial 21 finished with value: 0.16091954022988506 and parameters: {'k': 13, 'weights': 'distance', 'metric': 'minkowski'}. Best is trial 14 with value: 0.3160493827160494.\n",
            "[I 2024-11-23 19:50:37,213] Trial 22 finished with value: 0.3160493827160494 and parameters: {'k': 2, 'weights': 'distance', 'metric': 'minkowski'}. Best is trial 14 with value: 0.3160493827160494.\n",
            "[I 2024-11-23 19:50:37,371] Trial 23 finished with value: 0.3160493827160494 and parameters: {'k': 2, 'weights': 'distance', 'metric': 'minkowski'}. Best is trial 14 with value: 0.3160493827160494.\n",
            "[I 2024-11-23 19:50:37,468] Trial 24 finished with value: 0.2747603833865815 and parameters: {'k': 6, 'weights': 'distance', 'metric': 'minkowski'}. Best is trial 14 with value: 0.3160493827160494.\n",
            "[I 2024-11-23 19:50:37,642] Trial 25 finished with value: 0.2747603833865815 and parameters: {'k': 6, 'weights': 'distance', 'metric': 'minkowski'}. Best is trial 14 with value: 0.3160493827160494.\n",
            "[I 2024-11-23 19:50:37,719] Trial 26 finished with value: 0.2747603833865815 and parameters: {'k': 6, 'weights': 'distance', 'metric': 'minkowski'}. Best is trial 14 with value: 0.3160493827160494.\n",
            "[I 2024-11-23 19:50:37,914] Trial 27 finished with value: 0.1285140562248996 and parameters: {'k': 20, 'weights': 'distance', 'metric': 'minkowski'}. Best is trial 14 with value: 0.3160493827160494.\n",
            "[I 2024-11-23 19:50:37,994] Trial 28 finished with value: 0.17582417582417584 and parameters: {'k': 11, 'weights': 'distance', 'metric': 'minkowski'}. Best is trial 14 with value: 0.3160493827160494.\n",
            "[I 2024-11-23 19:50:39,244] Trial 30 finished with value: 0.27627627627627627 and parameters: {'k': 3, 'weights': 'distance', 'metric': 'manhattan'}. Best is trial 14 with value: 0.3160493827160494.\n",
            "[I 2024-11-23 19:50:39,347] Trial 29 finished with value: 0.19047619047619047 and parameters: {'k': 11, 'weights': 'distance', 'metric': 'manhattan'}. Best is trial 14 with value: 0.3160493827160494.\n",
            "[I 2024-11-23 19:50:39,601] Trial 31 finished with value: 0.11666666666666667 and parameters: {'k': 25, 'weights': 'distance', 'metric': 'euclidean'}. Best is trial 14 with value: 0.3160493827160494.\n",
            "[I 2024-11-23 19:50:39,780] Trial 32 finished with value: 0.3160493827160494 and parameters: {'k': 2, 'weights': 'distance', 'metric': 'minkowski'}. Best is trial 14 with value: 0.3160493827160494.\n",
            "[I 2024-11-23 19:50:39,994] Trial 33 finished with value: 0.3160493827160494 and parameters: {'k': 2, 'weights': 'distance', 'metric': 'minkowski'}. Best is trial 14 with value: 0.3160493827160494.\n",
            "[I 2024-11-23 19:50:40,137] Trial 34 finished with value: 0.28484848484848485 and parameters: {'k': 4, 'weights': 'distance', 'metric': 'minkowski'}. Best is trial 14 with value: 0.3160493827160494.\n",
            "[I 2024-11-23 19:50:40,470] Trial 35 finished with value: 0.28484848484848485 and parameters: {'k': 4, 'weights': 'distance', 'metric': 'minkowski'}. Best is trial 14 with value: 0.3160493827160494.\n",
            "[I 2024-11-23 19:50:40,641] Trial 36 finished with value: 0.1700404858299595 and parameters: {'k': 6, 'weights': 'uniform', 'metric': 'minkowski'}. Best is trial 14 with value: 0.3160493827160494.\n",
            "[I 2024-11-23 19:50:41,086] Trial 37 finished with value: 0.1700404858299595 and parameters: {'k': 6, 'weights': 'uniform', 'metric': 'euclidean'}. Best is trial 14 with value: 0.3160493827160494.\n",
            "[I 2024-11-23 19:50:41,504] Trial 38 finished with value: 0.28134556574923547 and parameters: {'k': 3, 'weights': 'uniform', 'metric': 'euclidean'}. Best is trial 14 with value: 0.3160493827160494.\n",
            "[I 2024-11-23 19:50:41,735] Trial 39 finished with value: 0.29673590504451036 and parameters: {'k': 3, 'weights': 'distance', 'metric': 'minkowski'}. Best is trial 14 with value: 0.3160493827160494.\n",
            "[I 2024-11-23 19:50:42,186] Trial 40 finished with value: 0.20216606498194944 and parameters: {'k': 9, 'weights': 'distance', 'metric': 'minkowski'}. Best is trial 14 with value: 0.3160493827160494.\n",
            "[I 2024-11-23 19:50:42,484] Trial 41 finished with value: 0.20216606498194944 and parameters: {'k': 9, 'weights': 'distance', 'metric': 'minkowski'}. Best is trial 14 with value: 0.3160493827160494.\n",
            "[I 2024-11-23 19:50:42,953] Trial 42 finished with value: 0.2597402597402597 and parameters: {'k': 5, 'weights': 'distance', 'metric': 'minkowski'}. Best is trial 14 with value: 0.3160493827160494.\n",
            "[I 2024-11-23 19:50:43,192] Trial 43 finished with value: 0.3160493827160494 and parameters: {'k': 2, 'weights': 'distance', 'metric': 'minkowski'}. Best is trial 14 with value: 0.3160493827160494.\n",
            "[I 2024-11-23 19:50:43,475] Trial 44 finished with value: 0.3160493827160494 and parameters: {'k': 2, 'weights': 'distance', 'metric': 'minkowski'}. Best is trial 14 with value: 0.3160493827160494.\n",
            "[I 2024-11-23 19:50:43,844] Trial 45 finished with value: 0.3160493827160494 and parameters: {'k': 2, 'weights': 'distance', 'metric': 'minkowski'}. Best is trial 14 with value: 0.3160493827160494.\n",
            "[I 2024-11-23 19:50:44,085] Trial 46 finished with value: 0.20714285714285716 and parameters: {'k': 7, 'weights': 'uniform', 'metric': 'minkowski'}. Best is trial 14 with value: 0.3160493827160494.\n",
            "[I 2024-11-23 19:50:44,631] Trial 47 finished with value: 0.20714285714285716 and parameters: {'k': 7, 'weights': 'uniform', 'metric': 'minkowski'}. Best is trial 14 with value: 0.3160493827160494.\n",
            "[I 2024-11-23 19:50:44,857] Trial 48 finished with value: 0.28484848484848485 and parameters: {'k': 4, 'weights': 'distance', 'metric': 'euclidean'}. Best is trial 14 with value: 0.3160493827160494.\n",
            "[I 2024-11-23 19:50:45,406] Trial 49 finished with value: 0.28484848484848485 and parameters: {'k': 4, 'weights': 'distance', 'metric': 'euclidean'}. Best is trial 14 with value: 0.3160493827160494.\n",
            "[I 2024-11-23 19:50:45,534] Trial 50 finished with value: 0.29673590504451036 and parameters: {'k': 3, 'weights': 'distance', 'metric': 'minkowski'}. Best is trial 14 with value: 0.3160493827160494.\n",
            "[I 2024-11-23 19:50:45,797] Trial 52 finished with value: 0.3160493827160494 and parameters: {'k': 2, 'weights': 'distance', 'metric': 'minkowski'}. Best is trial 14 with value: 0.3160493827160494.\n",
            "[I 2024-11-23 19:50:46,028] Trial 53 finished with value: 0.29673590504451036 and parameters: {'k': 3, 'weights': 'distance', 'metric': 'minkowski'}. Best is trial 14 with value: 0.3160493827160494.\n",
            "[I 2024-11-23 19:50:46,265] Trial 54 finished with value: 0.2597402597402597 and parameters: {'k': 5, 'weights': 'distance', 'metric': 'minkowski'}. Best is trial 14 with value: 0.3160493827160494.\n",
            "[I 2024-11-23 19:50:46,515] Trial 55 finished with value: 0.1685823754789272 and parameters: {'k': 16, 'weights': 'distance', 'metric': 'minkowski'}. Best is trial 14 with value: 0.3160493827160494.\n",
            "[I 2024-11-23 19:50:46,826] Trial 51 finished with value: 0.14960629921259844 and parameters: {'k': 19, 'weights': 'distance', 'metric': 'manhattan'}. Best is trial 14 with value: 0.3160493827160494.\n",
            "[I 2024-11-23 19:50:47,072] Trial 57 finished with value: 0.28484848484848485 and parameters: {'k': 4, 'weights': 'distance', 'metric': 'minkowski'}. Best is trial 14 with value: 0.3160493827160494.\n",
            "[I 2024-11-23 19:50:47,308] Trial 58 finished with value: 0.3160493827160494 and parameters: {'k': 2, 'weights': 'distance', 'metric': 'minkowski'}. Best is trial 14 with value: 0.3160493827160494.\n",
            "[I 2024-11-23 19:50:47,553] Trial 59 finished with value: 0.29673590504451036 and parameters: {'k': 3, 'weights': 'distance', 'metric': 'minkowski'}. Best is trial 14 with value: 0.3160493827160494.\n",
            "[I 2024-11-23 19:50:47,779] Trial 56 finished with value: 0.3057644110275689 and parameters: {'k': 2, 'weights': 'distance', 'metric': 'manhattan'}. Best is trial 14 with value: 0.3160493827160494.\n",
            "[I 2024-11-23 19:50:47,817] Trial 60 finished with value: 0.17557251908396945 and parameters: {'k': 14, 'weights': 'distance', 'metric': 'minkowski'}. Best is trial 14 with value: 0.3160493827160494.\n",
            "[I 2024-11-23 19:50:48,053] Trial 61 finished with value: 0.2597402597402597 and parameters: {'k': 5, 'weights': 'distance', 'metric': 'minkowski'}. Best is trial 14 with value: 0.3160493827160494.\n",
            "[I 2024-11-23 19:50:48,093] Trial 62 finished with value: 0.2597402597402597 and parameters: {'k': 5, 'weights': 'distance', 'metric': 'minkowski'}. Best is trial 14 with value: 0.3160493827160494.\n",
            "[I 2024-11-23 19:50:48,333] Trial 63 finished with value: 0.3160493827160494 and parameters: {'k': 2, 'weights': 'distance', 'metric': 'minkowski'}. Best is trial 14 with value: 0.3160493827160494.\n",
            "[I 2024-11-23 19:50:48,372] Trial 64 finished with value: 0.3160493827160494 and parameters: {'k': 2, 'weights': 'distance', 'metric': 'minkowski'}. Best is trial 14 with value: 0.3160493827160494.\n",
            "[I 2024-11-23 19:50:48,637] Trial 65 finished with value: 0.29673590504451036 and parameters: {'k': 3, 'weights': 'distance', 'metric': 'minkowski'}. Best is trial 14 with value: 0.3160493827160494.\n",
            "[I 2024-11-23 19:50:48,677] Trial 66 finished with value: 0.29673590504451036 and parameters: {'k': 3, 'weights': 'distance', 'metric': 'minkowski'}. Best is trial 14 with value: 0.3160493827160494.\n",
            "[I 2024-11-23 19:50:48,908] Trial 67 finished with value: 0.29673590504451036 and parameters: {'k': 3, 'weights': 'distance', 'metric': 'minkowski'}. Best is trial 14 with value: 0.3160493827160494.\n",
            "[I 2024-11-23 19:50:48,951] Trial 68 finished with value: 0.28484848484848485 and parameters: {'k': 4, 'weights': 'distance', 'metric': 'minkowski'}. Best is trial 14 with value: 0.3160493827160494.\n",
            "[I 2024-11-23 19:50:49,193] Trial 69 finished with value: 0.14173228346456693 and parameters: {'k': 4, 'weights': 'uniform', 'metric': 'minkowski'}. Best is trial 14 with value: 0.3160493827160494.\n",
            "[I 2024-11-23 19:50:49,239] Trial 70 finished with value: 0.20714285714285716 and parameters: {'k': 7, 'weights': 'uniform', 'metric': 'minkowski'}. Best is trial 14 with value: 0.3160493827160494.\n",
            "[I 2024-11-23 19:50:49,486] Trial 72 finished with value: 0.3160493827160494 and parameters: {'k': 2, 'weights': 'distance', 'metric': 'minkowski'}. Best is trial 14 with value: 0.3160493827160494.\n",
            "[I 2024-11-23 19:50:49,725] Trial 73 finished with value: 0.3160493827160494 and parameters: {'k': 2, 'weights': 'distance', 'metric': 'minkowski'}. Best is trial 14 with value: 0.3160493827160494.\n",
            "[I 2024-11-23 19:50:49,962] Trial 74 finished with value: 0.28484848484848485 and parameters: {'k': 4, 'weights': 'distance', 'metric': 'minkowski'}. Best is trial 14 with value: 0.3160493827160494.\n",
            "[I 2024-11-23 19:50:50,498] Trial 71 finished with value: 0.25418060200668896 and parameters: {'k': 7, 'weights': 'distance', 'metric': 'manhattan'}. Best is trial 14 with value: 0.3160493827160494.\n",
            "[I 2024-11-23 19:50:50,739] Trial 76 finished with value: 0.29673590504451036 and parameters: {'k': 3, 'weights': 'distance', 'metric': 'minkowski'}. Best is trial 14 with value: 0.3160493827160494.\n",
            "[I 2024-11-23 19:50:50,977] Trial 77 finished with value: 0.3160493827160494 and parameters: {'k': 2, 'weights': 'distance', 'metric': 'minkowski'}. Best is trial 14 with value: 0.3160493827160494.\n",
            "[I 2024-11-23 19:50:51,216] Trial 78 finished with value: 0.2597402597402597 and parameters: {'k': 5, 'weights': 'distance', 'metric': 'euclidean'}. Best is trial 14 with value: 0.3160493827160494.\n",
            "[I 2024-11-23 19:50:51,254] Trial 75 finished with value: 0.27627627627627627 and parameters: {'k': 3, 'weights': 'distance', 'metric': 'manhattan'}. Best is trial 14 with value: 0.3160493827160494.\n",
            "[I 2024-11-23 19:50:51,652] Trial 79 finished with value: 0.3160493827160494 and parameters: {'k': 2, 'weights': 'distance', 'metric': 'minkowski'}. Best is trial 14 with value: 0.3160493827160494.\n",
            "[I 2024-11-23 19:50:51,670] Trial 80 finished with value: 0.3160493827160494 and parameters: {'k': 2, 'weights': 'distance', 'metric': 'minkowski'}. Best is trial 14 with value: 0.3160493827160494.\n",
            "[I 2024-11-23 19:50:51,948] Trial 82 finished with value: 0.28484848484848485 and parameters: {'k': 4, 'weights': 'distance', 'metric': 'minkowski'}. Best is trial 14 with value: 0.3160493827160494.\n",
            "[I 2024-11-23 19:50:51,973] Trial 81 finished with value: 0.2747603833865815 and parameters: {'k': 6, 'weights': 'distance', 'metric': 'minkowski'}. Best is trial 14 with value: 0.3160493827160494.\n",
            "[I 2024-11-23 19:50:52,259] Trial 83 finished with value: 0.29673590504451036 and parameters: {'k': 3, 'weights': 'distance', 'metric': 'minkowski'}. Best is trial 14 with value: 0.3160493827160494.\n",
            "[I 2024-11-23 19:50:52,273] Trial 84 finished with value: 0.29673590504451036 and parameters: {'k': 3, 'weights': 'distance', 'metric': 'minkowski'}. Best is trial 14 with value: 0.3160493827160494.\n",
            "[I 2024-11-23 19:50:52,542] Trial 85 finished with value: 0.3160493827160494 and parameters: {'k': 2, 'weights': 'distance', 'metric': 'minkowski'}. Best is trial 14 with value: 0.3160493827160494.\n",
            "[I 2024-11-23 19:50:52,561] Trial 86 finished with value: 0.3160493827160494 and parameters: {'k': 2, 'weights': 'distance', 'metric': 'minkowski'}. Best is trial 14 with value: 0.3160493827160494.\n",
            "[I 2024-11-23 19:50:52,837] Trial 87 finished with value: 0.3160493827160494 and parameters: {'k': 2, 'weights': 'distance', 'metric': 'minkowski'}. Best is trial 14 with value: 0.3160493827160494.\n",
            "[I 2024-11-23 19:50:52,878] Trial 88 finished with value: 0.28484848484848485 and parameters: {'k': 4, 'weights': 'distance', 'metric': 'minkowski'}. Best is trial 14 with value: 0.3160493827160494.\n",
            "[I 2024-11-23 19:50:53,300] Trial 89 finished with value: 0.13709677419354838 and parameters: {'k': 23, 'weights': 'distance', 'metric': 'minkowski'}. Best is trial 14 with value: 0.3160493827160494.\n",
            "[I 2024-11-23 19:50:53,305] Trial 90 finished with value: 0.2550335570469799 and parameters: {'k': 5, 'weights': 'uniform', 'metric': 'euclidean'}. Best is trial 14 with value: 0.3160493827160494.\n",
            "[I 2024-11-23 19:50:53,582] Trial 91 finished with value: 0.3160493827160494 and parameters: {'k': 2, 'weights': 'distance', 'metric': 'minkowski'}. Best is trial 14 with value: 0.3160493827160494.\n",
            "[I 2024-11-23 19:50:53,612] Trial 92 finished with value: 0.3160493827160494 and parameters: {'k': 2, 'weights': 'distance', 'metric': 'minkowski'}. Best is trial 14 with value: 0.3160493827160494.\n",
            "[I 2024-11-23 19:50:53,878] Trial 94 finished with value: 0.29673590504451036 and parameters: {'k': 3, 'weights': 'distance', 'metric': 'minkowski'}. Best is trial 14 with value: 0.3160493827160494.\n",
            "[I 2024-11-23 19:50:53,906] Trial 93 finished with value: 0.29673590504451036 and parameters: {'k': 3, 'weights': 'distance', 'metric': 'minkowski'}. Best is trial 14 with value: 0.3160493827160494.\n",
            "[I 2024-11-23 19:50:54,162] Trial 95 finished with value: 0.29673590504451036 and parameters: {'k': 3, 'weights': 'distance', 'metric': 'minkowski'}. Best is trial 14 with value: 0.3160493827160494.\n",
            "[I 2024-11-23 19:50:54,199] Trial 96 finished with value: 0.28484848484848485 and parameters: {'k': 4, 'weights': 'distance', 'metric': 'minkowski'}. Best is trial 14 with value: 0.3160493827160494.\n",
            "[I 2024-11-23 19:50:54,455] Trial 97 finished with value: 0.28484848484848485 and parameters: {'k': 4, 'weights': 'distance', 'metric': 'minkowski'}. Best is trial 14 with value: 0.3160493827160494.\n",
            "[I 2024-11-23 19:50:54,480] Trial 98 finished with value: 0.3160493827160494 and parameters: {'k': 2, 'weights': 'distance', 'metric': 'minkowski'}. Best is trial 14 with value: 0.3160493827160494.\n",
            "[I 2024-11-23 19:50:54,625] Trial 99 finished with value: 0.3160493827160494 and parameters: {'k': 2, 'weights': 'distance', 'metric': 'minkowski'}. Best is trial 14 with value: 0.3160493827160494.\n"
          ]
        },
        {
          "output_type": "execute_result",
          "data": {
            "text/plain": [
              "{'k': 2, 'weights': 'distance', 'metric': 'minkowski'}"
            ]
          },
          "metadata": {},
          "execution_count": 20
        }
      ]
    },
    {
      "cell_type": "markdown",
      "source": [
        "### Melhores Hiper-parâmetros k=2, weights=distance, metric=minkowski"
      ],
      "metadata": {
        "id": "6_eAxOsf413I"
      }
    },
    {
      "cell_type": "code",
      "source": [
        "score = np.zeros(30)\n",
        "acc = np.zeros(30)\n",
        "rec = np.zeros(30)\n",
        "prec = np.zeros(30)\n",
        "score_train = np.zeros(30)\n",
        "acc_train = np.zeros(30)\n",
        "rec_train = np.zeros(30)\n",
        "prec_train = np.zeros(30)\n",
        "\n",
        "for i in range(30):\n",
        "  df = data.sample(frac=1, random_state=42)\n",
        "  x = df.drop(columns=['Diabetes_binary'])\n",
        "  y = df['Diabetes_binary']\n",
        "  x_train, x_test, y_train, y_test = train_test_split(x, y, test_size=0.2, random_state=10, stratify=y)\n",
        "\n",
        "  pipeline = Pipeline([\n",
        "      ('preprocessor', preprocessor_knn),\n",
        "      ('knn', KNeighborsClassifier())\n",
        "  ])\n",
        "\n",
        "  pipeline.set_params(knn__n_neighbors=2, knn__weights='distance', knn__metric='minkowski')\n",
        "  pipeline.fit(x_train, y_train)\n",
        "  y_train_pred = pipeline.predict(x_train)\n",
        "  y_pred = pipeline.predict(x_test)\n",
        "  score[i] = f1_score(y_test, y_pred)\n",
        "  acc[i] = accuracy_score(y_test, y_pred)\n",
        "  rec[i] = recall_score(y_test, y_pred)\n",
        "  prec[i] = precision_score(y_test, y_pred)\n",
        "\n",
        "  score_train[i] = f1_score(y_train, y_train_pred)\n",
        "  acc_train[i] = accuracy_score(y_train, y_train_pred)\n",
        "  rec_train[i] = recall_score(y_train, y_train_pred)\n",
        "  prec_train[i] = precision_score(y_train, y_train_pred)\n",
        "\n",
        "\n",
        "print(\"MÉTRICAS DE TREINO\")\n",
        "print(\"F1_SCORE: \\n\")\n",
        "print(f\" Média -> {score_train.mean()}\")\n",
        "print(f\" Desvio Padrão -> {score.std()}\")\n",
        "print(\"\\nACCURACY: \\n\")\n",
        "print(f\" Média -> {acc_train.mean()}\")\n",
        "print(f\" Desvio Padrão -> {acc.std()}\")\n",
        "print(\"\\nRECALL: \\n\")\n",
        "print(f\" Média -> {rec_train.mean()}\")\n",
        "print(f\" Desvio Padrão -> {rec.std()}\")\n",
        "print(\"\\nPRECISION: \\n\")\n",
        "print(f\" Média -> {prec_train.mean()}\")\n",
        "print(f\" Desvio Padrão -> {prec_train.std()}\")\n",
        "print(\"\\n\\n---------------------\\n\\n\")\n",
        "print(\"MÉTRICAS DE TESTE\")\n",
        "print(\"F1_SCORE: \\n\")\n",
        "print(f\" Média -> {score.mean()}\")\n",
        "print(f\" Desvio Padrão -> {score.std()}\")\n",
        "print(\"\\nACCURACY: \\n\")\n",
        "print(f\" Média -> {acc.mean()}\")\n",
        "print(f\" Desvio Padrão -> {acc.std()}\")\n",
        "print(\"\\nRECALL: \\n\")\n",
        "print(f\" Média -> {rec.mean()}\")\n",
        "print(f\" Desvio Padrão -> {rec.std()}\")\n",
        "print(\"\\nPRECISION: \\n\")\n",
        "print(f\" Média -> {prec.mean()}\")\n",
        "print(f\" Desvio Padrão -> {prec.std()}\")"
      ],
      "metadata": {
        "id": "qb4v4axiuE5B"
      },
      "execution_count": null,
      "outputs": []
    },
    {
      "cell_type": "markdown",
      "source": [
        "## Logistic Regression"
      ],
      "metadata": {
        "id": "WtQPnBDezENK"
      }
    },
    {
      "cell_type": "code",
      "source": [
        "preprocessor_lr = ColumnTransformer(\n",
        "    transformers=[\n",
        "        ('num', MinMaxScaler(), numerical_columns),\n",
        "        ('cat', OneHotEncoder(), categorical_columns),\n",
        "        ('bin', 'passthrough', binary_columns)\n",
        "    ])\n",
        "\n",
        "lr_pipeline = Pipeline([\n",
        "    ('preprocessor', preprocessor_lr),\n",
        "    ('log_reg', LogisticRegression())\n",
        "])"
      ],
      "metadata": {
        "id": "oKRHBPzC1OZf"
      },
      "execution_count": 21,
      "outputs": []
    },
    {
      "cell_type": "code",
      "source": [
        "def objective_lr(trial):\n",
        "    solver = trial.suggest_categorical('solver', ['liblinear', 'lbfgs', 'saga'])\n",
        "    if solver == 'lbfgs':\n",
        "        penalty = 'l2'  # lbfgs só suporta 'l2'\n",
        "    else:\n",
        "        penalty = trial.suggest_categorical('penalty', ['l2', 'l1'])  # liblinear e saga suportam 'l1' e 'l2'\n",
        "    C = trial.suggest_float('C', 0.01, 10.0)\n",
        "    max_iter = trial.suggest_int('max_iter', 100, 1000)\n",
        "    pipeline = Pipeline([\n",
        "    ('preprocessor', preprocessor_lr),\n",
        "    ('log_reg', LogisticRegression())\n",
        "    ])\n",
        "    pipeline.set_params(log_reg__solver=solver, log_reg__penalty=penalty, log_reg__C=C, log_reg__max_iter=max_iter)\n",
        "    pipeline.fit(x_train, y_train)\n",
        "\n",
        "    y_pred = pipeline.predict(x_validation)\n",
        "\n",
        "    score = f1_score(y_validation, y_pred)\n",
        "\n",
        "    return score\n",
        "\n",
        "study_lr = optuna.create_study(direction='maximize')\n",
        "study_lr.optimize(objective_lr, n_trials=100, n_jobs=-1)\n",
        "\n",
        "print(study_lr.best_params)\n",
        "\n",
        "\n"
      ],
      "metadata": {
        "colab": {
          "base_uri": "https://localhost:8080/"
        },
        "id": "had6tk5x1u8V",
        "outputId": "06297826-4718-4c23-bbc2-7db0136bb221"
      },
      "execution_count": 22,
      "outputs": [
        {
          "output_type": "stream",
          "name": "stderr",
          "text": [
            "[I 2024-11-23 19:52:37,154] A new study created in memory with name: no-name-1891cd0c-bedd-4443-9c08-bce3e3a2b063\n",
            "[I 2024-11-23 19:52:39,098] Trial 0 finished with value: 0.30935251798561153 and parameters: {'solver': 'saga', 'penalty': 'l2', 'C': 1.8144893835258327, 'max_iter': 875}. Best is trial 0 with value: 0.30935251798561153.\n",
            "[I 2024-11-23 19:52:39,200] Trial 2 finished with value: 0.30824372759856633 and parameters: {'solver': 'lbfgs', 'C': 4.614272775123134, 'max_iter': 464}. Best is trial 0 with value: 0.30935251798561153.\n",
            "[I 2024-11-23 19:52:39,296] Trial 3 finished with value: 0.3104693140794224 and parameters: {'solver': 'liblinear', 'penalty': 'l2', 'C': 1.051624740348695, 'max_iter': 345}. Best is trial 3 with value: 0.3104693140794224.\n",
            "[I 2024-11-23 19:52:39,386] Trial 4 finished with value: 0.30824372759856633 and parameters: {'solver': 'lbfgs', 'C': 7.280785660826048, 'max_iter': 486}. Best is trial 3 with value: 0.3104693140794224.\n",
            "[I 2024-11-23 19:52:39,513] Trial 5 finished with value: 0.30935251798561153 and parameters: {'solver': 'lbfgs', 'C': 0.9286190497087782, 'max_iter': 961}. Best is trial 3 with value: 0.3104693140794224.\n",
            "[I 2024-11-23 19:52:43,443] Trial 6 finished with value: 0.30935251798561153 and parameters: {'solver': 'saga', 'penalty': 'l2', 'C': 6.369090655926818, 'max_iter': 714}. Best is trial 3 with value: 0.3104693140794224.\n",
            "[I 2024-11-23 19:52:43,533] Trial 7 finished with value: 0.30824372759856633 and parameters: {'solver': 'lbfgs', 'C': 3.5090297147236913, 'max_iter': 984}. Best is trial 3 with value: 0.3104693140794224.\n",
            "[I 2024-11-23 19:52:43,633] Trial 8 finished with value: 0.30935251798561153 and parameters: {'solver': 'liblinear', 'penalty': 'l2', 'C': 5.4726582998977396, 'max_iter': 158}. Best is trial 3 with value: 0.3104693140794224.\n",
            "[I 2024-11-23 19:52:44,098] Trial 1 finished with value: 0.30935251798561153 and parameters: {'solver': 'saga', 'penalty': 'l1', 'C': 9.327316074830657, 'max_iter': 486}. Best is trial 3 with value: 0.3104693140794224.\n",
            "[I 2024-11-23 19:52:46,696] Trial 9 finished with value: 0.30935251798561153 and parameters: {'solver': 'liblinear', 'penalty': 'l1', 'C': 7.11871984882508, 'max_iter': 776}. Best is trial 3 with value: 0.3104693140794224.\n",
            "[I 2024-11-23 19:52:46,829] Trial 11 finished with value: 0.2814814814814815 and parameters: {'solver': 'liblinear', 'penalty': 'l2', 'C': 0.2597174044249033, 'max_iter': 213}. Best is trial 3 with value: 0.3104693140794224.\n",
            "[I 2024-11-23 19:52:48,391] Trial 10 finished with value: 0.30714285714285716 and parameters: {'solver': 'saga', 'penalty': 'l2', 'C': 2.7396715477183213, 'max_iter': 865}. Best is trial 3 with value: 0.3104693140794224.\n",
            "[I 2024-11-23 19:52:49,399] Trial 12 finished with value: 0.30935251798561153 and parameters: {'solver': 'saga', 'penalty': 'l2', 'C': 2.04522460292399, 'max_iter': 305}. Best is trial 3 with value: 0.3104693140794224.\n",
            "[I 2024-11-23 19:52:49,516] Trial 14 finished with value: 0.3104693140794224 and parameters: {'solver': 'liblinear', 'penalty': 'l2', 'C': 1.3745297615614154, 'max_iter': 640}. Best is trial 3 with value: 0.3104693140794224.\n",
            "[I 2024-11-23 19:52:49,612] Trial 15 finished with value: 0.2178988326848249 and parameters: {'solver': 'liblinear', 'penalty': 'l2', 'C': 0.05772704348422408, 'max_iter': 633}. Best is trial 3 with value: 0.3104693140794224.\n",
            "[I 2024-11-23 19:52:50,425] Trial 13 finished with value: 0.30935251798561153 and parameters: {'solver': 'saga', 'penalty': 'l2', 'C': 1.850969098035447, 'max_iter': 321}. Best is trial 3 with value: 0.3104693140794224.\n",
            "[I 2024-11-23 19:52:52,380] Trial 16 finished with value: 0.30935251798561153 and parameters: {'solver': 'liblinear', 'penalty': 'l1', 'C': 3.665148213186767, 'max_iter': 327}. Best is trial 3 with value: 0.3104693140794224.\n",
            "[I 2024-11-23 19:52:52,513] Trial 18 finished with value: 0.3104693140794224 and parameters: {'solver': 'liblinear', 'penalty': 'l2', 'C': 1.0181766881077032, 'max_iter': 596}. Best is trial 3 with value: 0.3104693140794224.\n",
            "[I 2024-11-23 19:52:52,691] Trial 17 finished with value: 0.30935251798561153 and parameters: {'solver': 'liblinear', 'penalty': 'l1', 'C': 3.9117588182269394, 'max_iter': 612}. Best is trial 3 with value: 0.3104693140794224.\n",
            "[I 2024-11-23 19:52:52,851] Trial 20 finished with value: 0.30935251798561153 and parameters: {'solver': 'liblinear', 'penalty': 'l2', 'C': 9.794096596518507, 'max_iter': 397}. Best is trial 3 with value: 0.3104693140794224.\n",
            "[I 2024-11-23 19:52:53,001] Trial 21 finished with value: 0.3104693140794224 and parameters: {'solver': 'liblinear', 'penalty': 'l2', 'C': 2.5884568706883484, 'max_iter': 695}. Best is trial 3 with value: 0.3104693140794224.\n",
            "[I 2024-11-23 19:52:53,131] Trial 22 finished with value: 0.3104693140794224 and parameters: {'solver': 'liblinear', 'penalty': 'l2', 'C': 1.104111803550504, 'max_iter': 577}. Best is trial 3 with value: 0.3104693140794224.\n",
            "[I 2024-11-23 19:52:53,279] Trial 23 finished with value: 0.3104693140794224 and parameters: {'solver': 'liblinear', 'penalty': 'l2', 'C': 0.9580192432011464, 'max_iter': 537}. Best is trial 3 with value: 0.3104693140794224.\n",
            "[I 2024-11-23 19:52:53,416] Trial 24 finished with value: 0.30935251798561153 and parameters: {'solver': 'liblinear', 'penalty': 'l2', 'C': 0.9984448970127164, 'max_iter': 406}. Best is trial 3 with value: 0.3104693140794224.\n",
            "[I 2024-11-23 19:52:53,553] Trial 25 finished with value: 0.3104693140794224 and parameters: {'solver': 'liblinear', 'penalty': 'l2', 'C': 2.499668089063026, 'max_iter': 674}. Best is trial 3 with value: 0.3104693140794224.\n",
            "[I 2024-11-23 19:52:53,681] Trial 26 finished with value: 0.2814814814814815 and parameters: {'solver': 'liblinear', 'penalty': 'l2', 'C': 0.2642235980539236, 'max_iter': 780}. Best is trial 3 with value: 0.3104693140794224.\n",
            "[I 2024-11-23 19:52:54,437] Trial 19 finished with value: 0.30935251798561153 and parameters: {'solver': 'liblinear', 'penalty': 'l1', 'C': 3.3004007406171407, 'max_iter': 407}. Best is trial 3 with value: 0.3104693140794224.\n",
            "[I 2024-11-23 19:52:54,577] Trial 28 finished with value: 0.30824372759856633 and parameters: {'solver': 'liblinear', 'penalty': 'l2', 'C': 4.436832234098201, 'max_iter': 236}. Best is trial 3 with value: 0.3104693140794224.\n",
            "[I 2024-11-23 19:52:54,717] Trial 29 finished with value: 0.3104693140794224 and parameters: {'solver': 'liblinear', 'penalty': 'l2', 'C': 1.6360826819137935, 'max_iter': 564}. Best is trial 3 with value: 0.3104693140794224.\n",
            "[I 2024-11-23 19:52:54,909] Trial 30 finished with value: 0.30935251798561153 and parameters: {'solver': 'lbfgs', 'C': 1.4459732877433482, 'max_iter': 794}. Best is trial 3 with value: 0.3104693140794224.\n",
            "[I 2024-11-23 19:52:55,050] Trial 31 finished with value: 0.3104693140794224 and parameters: {'solver': 'liblinear', 'penalty': 'l2', 'C': 2.2819255154083726, 'max_iter': 116}. Best is trial 3 with value: 0.3104693140794224.\n",
            "[I 2024-11-23 19:52:55,189] Trial 32 finished with value: 0.30935251798561153 and parameters: {'solver': 'liblinear', 'penalty': 'l2', 'C': 2.7705378498410944, 'max_iter': 718}. Best is trial 3 with value: 0.3104693140794224.\n",
            "[I 2024-11-23 19:52:55,348] Trial 33 finished with value: 0.29818181818181816 and parameters: {'solver': 'liblinear', 'penalty': 'l2', 'C': 0.6461347447636308, 'max_iter': 685}. Best is trial 3 with value: 0.3104693140794224.\n",
            "[I 2024-11-23 19:52:55,489] Trial 34 finished with value: 0.3104693140794224 and parameters: {'solver': 'liblinear', 'penalty': 'l2', 'C': 1.5572738732961995, 'max_iter': 517}. Best is trial 3 with value: 0.3104693140794224.\n",
            "[I 2024-11-23 19:52:55,635] Trial 35 finished with value: 0.3104693140794224 and parameters: {'solver': 'liblinear', 'penalty': 'l2', 'C': 2.1293652354581236, 'max_iter': 621}. Best is trial 3 with value: 0.3104693140794224.\n",
            "[I 2024-11-23 19:52:55,781] Trial 36 finished with value: 0.30935251798561153 and parameters: {'solver': 'liblinear', 'penalty': 'l2', 'C': 2.783073537579969, 'max_iter': 466}. Best is trial 3 with value: 0.3104693140794224.\n",
            "[I 2024-11-23 19:52:55,918] Trial 37 finished with value: 0.30935251798561153 and parameters: {'solver': 'lbfgs', 'C': 8.76726621664266, 'max_iter': 659}. Best is trial 3 with value: 0.3104693140794224.\n",
            "[I 2024-11-23 19:52:56,000] Trial 27 finished with value: 0.30935251798561153 and parameters: {'solver': 'liblinear', 'penalty': 'l1', 'C': 3.1290346257196697, 'max_iter': 549}. Best is trial 3 with value: 0.3104693140794224.\n",
            "[I 2024-11-23 19:53:00,539] Trial 38 finished with value: 0.30935251798561153 and parameters: {'solver': 'saga', 'penalty': 'l2', 'C': 5.543682701337249, 'max_iter': 888}. Best is trial 3 with value: 0.3104693140794224.\n",
            "[I 2024-11-23 19:53:00,792] Trial 40 finished with value: 0.30824372759856633 and parameters: {'solver': 'liblinear', 'penalty': 'l2', 'C': 4.180212375062422, 'max_iter': 736}. Best is trial 3 with value: 0.3104693140794224.\n",
            "[I 2024-11-23 19:53:00,833] Trial 39 finished with value: 0.30935251798561153 and parameters: {'solver': 'saga', 'penalty': 'l2', 'C': 5.34131639780048, 'max_iter': 852}. Best is trial 3 with value: 0.3104693140794224.\n",
            "[I 2024-11-23 19:53:01,139] Trial 41 finished with value: 0.296028880866426 and parameters: {'solver': 'lbfgs', 'C': 0.5552034998275421, 'max_iter': 899}. Best is trial 3 with value: 0.3104693140794224.\n",
            "[I 2024-11-23 19:53:01,199] Trial 42 finished with value: 0.3104693140794224 and parameters: {'solver': 'lbfgs', 'C': 1.2085824713682103, 'max_iter': 597}. Best is trial 3 with value: 0.3104693140794224.\n",
            "[I 2024-11-23 19:53:01,405] Trial 43 finished with value: 0.3104693140794224 and parameters: {'solver': 'liblinear', 'penalty': 'l2', 'C': 1.2224337310139133, 'max_iter': 583}. Best is trial 3 with value: 0.3104693140794224.\n",
            "[I 2024-11-23 19:53:01,474] Trial 44 finished with value: 0.30434782608695654 and parameters: {'solver': 'liblinear', 'penalty': 'l2', 'C': 0.7470316654817661, 'max_iter': 583}. Best is trial 3 with value: 0.3104693140794224.\n",
            "[I 2024-11-23 19:53:01,699] Trial 45 finished with value: 0.29818181818181816 and parameters: {'solver': 'liblinear', 'penalty': 'l2', 'C': 0.5829375169276778, 'max_iter': 500}. Best is trial 3 with value: 0.3104693140794224.\n",
            "[I 2024-11-23 19:53:01,751] Trial 46 finished with value: 0.3104693140794224 and parameters: {'solver': 'liblinear', 'penalty': 'l2', 'C': 1.936163146356034, 'max_iter': 500}. Best is trial 3 with value: 0.3104693140794224.\n",
            "[I 2024-11-23 19:53:02,279] Trial 47 finished with value: 0.3104693140794224 and parameters: {'solver': 'liblinear', 'penalty': 'l2', 'C': 1.969471129368006, 'max_iter': 738}. Best is trial 3 with value: 0.3104693140794224.\n",
            "[I 2024-11-23 19:53:02,933] Trial 49 finished with value: 0.24124513618677043 and parameters: {'solver': 'saga', 'penalty': 'l1', 'C': 0.11218575380778761, 'max_iter': 437}. Best is trial 3 with value: 0.3104693140794224.\n",
            "[I 2024-11-23 19:53:03,079] Trial 50 finished with value: 0.3104693140794224 and parameters: {'solver': 'liblinear', 'penalty': 'l2', 'C': 1.4724802350005577, 'max_iter': 655}. Best is trial 3 with value: 0.3104693140794224.\n",
            "[I 2024-11-23 19:53:03,230] Trial 51 finished with value: 0.30935251798561153 and parameters: {'solver': 'liblinear', 'penalty': 'l2', 'C': 3.1684000187349364, 'max_iter': 815}. Best is trial 3 with value: 0.3104693140794224.\n",
            "[I 2024-11-23 19:53:03,372] Trial 52 finished with value: 0.3104693140794224 and parameters: {'solver': 'liblinear', 'penalty': 'l2', 'C': 1.0896974075034083, 'max_iter': 537}. Best is trial 3 with value: 0.3104693140794224.\n",
            "[I 2024-11-23 19:53:03,436] Trial 48 finished with value: 0.30935251798561153 and parameters: {'solver': 'liblinear', 'penalty': 'l1', 'C': 1.5472831428402753, 'max_iter': 443}. Best is trial 3 with value: 0.3104693140794224.\n",
            "[I 2024-11-23 19:53:03,557] Trial 53 finished with value: 0.30434782608695654 and parameters: {'solver': 'liblinear', 'penalty': 'l2', 'C': 0.8206219467652637, 'max_iter': 365}. Best is trial 3 with value: 0.3104693140794224.\n",
            "[I 2024-11-23 19:53:03,598] Trial 54 finished with value: 0.30434782608695654 and parameters: {'solver': 'liblinear', 'penalty': 'l2', 'C': 0.8448129349332558, 'max_iter': 350}. Best is trial 3 with value: 0.3104693140794224.\n",
            "[I 2024-11-23 19:53:03,732] Trial 55 finished with value: 0.3104693140794224 and parameters: {'solver': 'liblinear', 'penalty': 'l2', 'C': 2.479150048469599, 'max_iter': 260}. Best is trial 3 with value: 0.3104693140794224.\n",
            "[I 2024-11-23 19:53:03,791] Trial 56 finished with value: 0.3104693140794224 and parameters: {'solver': 'liblinear', 'penalty': 'l2', 'C': 2.417293863176437, 'max_iter': 632}. Best is trial 3 with value: 0.3104693140794224.\n",
            "[I 2024-11-23 19:53:03,894] Trial 57 finished with value: 0.25660377358490566 and parameters: {'solver': 'liblinear', 'penalty': 'l2', 'C': 0.12835821961545357, 'max_iter': 682}. Best is trial 3 with value: 0.3104693140794224.\n",
            "[I 2024-11-23 19:53:03,949] Trial 58 finished with value: 0.29411764705882354 and parameters: {'solver': 'liblinear', 'penalty': 'l2', 'C': 0.3486985502088271, 'max_iter': 678}. Best is trial 3 with value: 0.3104693140794224.\n",
            "[I 2024-11-23 19:53:04,064] Trial 59 finished with value: 0.28888888888888886 and parameters: {'solver': 'liblinear', 'penalty': 'l2', 'C': 0.3190243616350231, 'max_iter': 537}. Best is trial 3 with value: 0.3104693140794224.\n",
            "[I 2024-11-23 19:53:05,703] Trial 61 finished with value: 0.30935251798561153 and parameters: {'solver': 'saga', 'penalty': 'l1', 'C': 1.824467319707206, 'max_iter': 188}. Best is trial 3 with value: 0.3104693140794224.\n",
            "[I 2024-11-23 19:53:05,856] Trial 62 finished with value: 0.3104693140794224 and parameters: {'solver': 'liblinear', 'penalty': 'l2', 'C': 1.2269255272041364, 'max_iter': 760}. Best is trial 3 with value: 0.3104693140794224.\n",
            "[I 2024-11-23 19:53:05,911] Trial 60 finished with value: 0.30935251798561153 and parameters: {'solver': 'saga', 'penalty': 'l1', 'C': 1.1870302471532141, 'max_iter': 540}. Best is trial 3 with value: 0.3104693140794224.\n",
            "[I 2024-11-23 19:53:06,063] Trial 63 finished with value: 0.30935251798561153 and parameters: {'solver': 'liblinear', 'penalty': 'l2', 'C': 2.7676797479291535, 'max_iter': 704}. Best is trial 3 with value: 0.3104693140794224.\n",
            "[I 2024-11-23 19:53:06,071] Trial 64 finished with value: 0.30824372759856633 and parameters: {'solver': 'liblinear', 'penalty': 'l2', 'C': 3.6249997288764146, 'max_iter': 698}. Best is trial 3 with value: 0.3104693140794224.\n",
            "[I 2024-11-23 19:53:06,252] Trial 66 finished with value: 0.3104693140794224 and parameters: {'solver': 'liblinear', 'penalty': 'l2', 'C': 2.3771821182860977, 'max_iter': 643}. Best is trial 3 with value: 0.3104693140794224.\n",
            "[I 2024-11-23 19:53:06,256] Trial 65 finished with value: 0.30935251798561153 and parameters: {'solver': 'liblinear', 'penalty': 'l2', 'C': 7.621367976231937, 'max_iter': 634}. Best is trial 3 with value: 0.3104693140794224.\n",
            "[I 2024-11-23 19:53:06,434] Trial 67 finished with value: 0.30935251798561153 and parameters: {'solver': 'lbfgs', 'C': 1.7184138567282954, 'max_iter': 579}. Best is trial 3 with value: 0.3104693140794224.\n",
            "[I 2024-11-23 19:53:06,439] Trial 68 finished with value: 0.30935251798561153 and parameters: {'solver': 'lbfgs', 'C': 1.7944348823829188, 'max_iter': 573}. Best is trial 3 with value: 0.3104693140794224.\n",
            "[I 2024-11-23 19:53:06,614] Trial 70 finished with value: 0.30824372759856633 and parameters: {'solver': 'liblinear', 'penalty': 'l2', 'C': 4.857933767283441, 'max_iter': 605}. Best is trial 3 with value: 0.3104693140794224.\n",
            "[I 2024-11-23 19:53:06,616] Trial 69 finished with value: 0.29818181818181816 and parameters: {'solver': 'liblinear', 'penalty': 'l2', 'C': 0.5275829712390826, 'max_iter': 288}. Best is trial 3 with value: 0.3104693140794224.\n",
            "[I 2024-11-23 19:53:06,794] Trial 71 finished with value: 0.3104693140794224 and parameters: {'solver': 'liblinear', 'penalty': 'l2', 'C': 1.4221028694023325, 'max_iter': 562}. Best is trial 3 with value: 0.3104693140794224.\n",
            "[I 2024-11-23 19:53:06,800] Trial 72 finished with value: 0.3104693140794224 and parameters: {'solver': 'liblinear', 'penalty': 'l2', 'C': 1.4349119871872558, 'max_iter': 569}. Best is trial 3 with value: 0.3104693140794224.\n",
            "[I 2024-11-23 19:53:06,986] Trial 73 finished with value: 0.3104693140794224 and parameters: {'solver': 'liblinear', 'penalty': 'l2', 'C': 2.1335490351966087, 'max_iter': 474}. Best is trial 3 with value: 0.3104693140794224.\n",
            "[I 2024-11-23 19:53:07,026] Trial 74 finished with value: 0.3104693140794224 and parameters: {'solver': 'liblinear', 'penalty': 'l2', 'C': 1.033942391953502, 'max_iter': 466}. Best is trial 3 with value: 0.3104693140794224.\n",
            "[I 2024-11-23 19:53:07,184] Trial 75 finished with value: 0.30935251798561153 and parameters: {'solver': 'liblinear', 'penalty': 'l2', 'C': 3.008934179554308, 'max_iter': 659}. Best is trial 3 with value: 0.3104693140794224.\n",
            "[I 2024-11-23 19:53:07,217] Trial 76 finished with value: 0.3104693140794224 and parameters: {'solver': 'liblinear', 'penalty': 'l2', 'C': 2.590731638306289, 'max_iter': 663}. Best is trial 3 with value: 0.3104693140794224.\n",
            "[I 2024-11-23 19:53:07,369] Trial 78 finished with value: 0.3104693140794224 and parameters: {'solver': 'liblinear', 'penalty': 'l2', 'C': 2.1792271164796118, 'max_iter': 509}. Best is trial 3 with value: 0.3104693140794224.\n",
            "[I 2024-11-23 19:53:07,381] Trial 77 finished with value: 0.3104693140794224 and parameters: {'solver': 'liblinear', 'penalty': 'l2', 'C': 2.5997085764843755, 'max_iter': 622}. Best is trial 3 with value: 0.3104693140794224.\n",
            "[I 2024-11-23 19:53:07,549] Trial 80 finished with value: 0.30434782608695654 and parameters: {'solver': 'liblinear', 'penalty': 'l2', 'C': 0.8400754219976635, 'max_iter': 734}. Best is trial 3 with value: 0.3104693140794224.\n",
            "[I 2024-11-23 19:53:07,551] Trial 79 finished with value: 0.3104693140794224 and parameters: {'solver': 'liblinear', 'penalty': 'l2', 'C': 0.8955687851274023, 'max_iter': 611}. Best is trial 3 with value: 0.3104693140794224.\n",
            "[I 2024-11-23 19:53:07,727] Trial 82 finished with value: 0.3104693140794224 and parameters: {'solver': 'liblinear', 'penalty': 'l2', 'C': 2.2421139686678524, 'max_iter': 434}. Best is trial 3 with value: 0.3104693140794224.\n",
            "[I 2024-11-23 19:53:07,733] Trial 81 finished with value: 0.30824372759856633 and parameters: {'solver': 'liblinear', 'penalty': 'l2', 'C': 3.3884130308376728, 'max_iter': 434}. Best is trial 3 with value: 0.3104693140794224.\n",
            "[I 2024-11-23 19:53:07,914] Trial 83 finished with value: 0.30824372759856633 and parameters: {'solver': 'liblinear', 'penalty': 'l2', 'C': 3.9637227042407375, 'max_iter': 160}. Best is trial 3 with value: 0.3104693140794224.\n",
            "[I 2024-11-23 19:53:07,971] Trial 84 finished with value: 0.30824372759856633 and parameters: {'solver': 'liblinear', 'penalty': 'l2', 'C': 3.937022124503117, 'max_iter': 143}. Best is trial 3 with value: 0.3104693140794224.\n",
            "[I 2024-11-23 19:53:08,117] Trial 85 finished with value: 0.3104693140794224 and parameters: {'solver': 'liblinear', 'penalty': 'l2', 'C': 1.5689467435186253, 'max_iter': 141}. Best is trial 3 with value: 0.3104693140794224.\n",
            "[I 2024-11-23 19:53:08,181] Trial 86 finished with value: 0.3104693140794224 and parameters: {'solver': 'liblinear', 'penalty': 'l2', 'C': 1.6294380846830703, 'max_iter': 381}. Best is trial 3 with value: 0.3104693140794224.\n",
            "[I 2024-11-23 19:53:08,324] Trial 87 finished with value: 0.30935251798561153 and parameters: {'solver': 'liblinear', 'penalty': 'l2', 'C': 2.9090922752062185, 'max_iter': 214}. Best is trial 3 with value: 0.3104693140794224.\n",
            "[I 2024-11-23 19:53:08,326] Trial 88 finished with value: 0.3104693140794224 and parameters: {'solver': 'lbfgs', 'C': 1.9379934242509302, 'max_iter': 103}. Best is trial 3 with value: 0.3104693140794224.\n",
            "[I 2024-11-23 19:53:13,239] Trial 90 finished with value: 0.30935251798561153 and parameters: {'solver': 'saga', 'penalty': 'l1', 'C': 6.005167362552202, 'max_iter': 820}. Best is trial 3 with value: 0.3104693140794224.\n",
            "[I 2024-11-23 19:53:13,391] Trial 91 finished with value: 0.30036630036630035 and parameters: {'solver': 'liblinear', 'penalty': 'l2', 'C': 0.4249967908719191, 'max_iter': 523}. Best is trial 3 with value: 0.3104693140794224.\n",
            "[I 2024-11-23 19:53:13,609] Trial 92 finished with value: 0.3104693140794224 and parameters: {'solver': 'liblinear', 'penalty': 'l2', 'C': 1.2491842565495919, 'max_iter': 588}. Best is trial 3 with value: 0.3104693140794224.\n",
            "[I 2024-11-23 19:53:13,794] Trial 93 finished with value: 0.30434782608695654 and parameters: {'solver': 'liblinear', 'penalty': 'l2', 'C': 0.6791223670465953, 'max_iter': 489}. Best is trial 3 with value: 0.3104693140794224.\n",
            "[I 2024-11-23 19:53:14,067] Trial 94 finished with value: 0.3104693140794224 and parameters: {'solver': 'liblinear', 'penalty': 'l2', 'C': 1.6922334657438969, 'max_iter': 553}. Best is trial 3 with value: 0.3104693140794224.\n",
            "[I 2024-11-23 19:53:14,269] Trial 95 finished with value: 0.3104693140794224 and parameters: {'solver': 'liblinear', 'penalty': 'l2', 'C': 2.0394610984721515, 'max_iter': 516}. Best is trial 3 with value: 0.3104693140794224.\n",
            "[I 2024-11-23 19:53:14,355] Trial 89 finished with value: 0.30935251798561153 and parameters: {'solver': 'saga', 'penalty': 'l1', 'C': 6.452071109524757, 'max_iter': 601}. Best is trial 3 with value: 0.3104693140794224.\n",
            "[I 2024-11-23 19:53:14,549] Trial 96 finished with value: 0.3104693140794224 and parameters: {'solver': 'liblinear', 'penalty': 'l2', 'C': 1.3541868368893344, 'max_iter': 601}. Best is trial 3 with value: 0.3104693140794224.\n",
            "[I 2024-11-23 19:53:14,658] Trial 97 finished with value: 0.30935251798561153 and parameters: {'solver': 'liblinear', 'penalty': 'l2', 'C': 0.9997241569973209, 'max_iter': 715}. Best is trial 3 with value: 0.3104693140794224.\n",
            "[I 2024-11-23 19:53:14,805] Trial 98 finished with value: 0.3104693140794224 and parameters: {'solver': 'liblinear', 'penalty': 'l2', 'C': 1.1111625661636015, 'max_iter': 758}. Best is trial 3 with value: 0.3104693140794224.\n",
            "[I 2024-11-23 19:53:14,887] Trial 99 finished with value: 0.3104693140794224 and parameters: {'solver': 'liblinear', 'penalty': 'l2', 'C': 2.367798538190155, 'max_iter': 672}. Best is trial 3 with value: 0.3104693140794224.\n"
          ]
        },
        {
          "output_type": "stream",
          "name": "stdout",
          "text": [
            "{'solver': 'liblinear', 'penalty': 'l2', 'C': 1.051624740348695, 'max_iter': 345}\n"
          ]
        }
      ]
    },
    {
      "cell_type": "markdown",
      "source": [
        "Melhor Hiper-parâmetros: 'solver': 'liblinear', 'penalty': 'l2', 'C': 1.051624740348695, 'max_iter': 345"
      ],
      "metadata": {
        "id": "aEEC4qrelmBB"
      }
    },
    {
      "cell_type": "code",
      "source": [
        "score = np.zeros(30)\n",
        "acc = np.zeros(30)\n",
        "rec = np.zeros(30)\n",
        "prec = np.zeros(30)\n",
        "score_train = np.zeros(30)\n",
        "acc_train = np.zeros(30)\n",
        "rec_train = np.zeros(30)\n",
        "prec_train = np.zeros(30)\n",
        "\n",
        "for i in range(30):\n",
        "  df = data.sample(frac=1, random_state=42)\n",
        "  x = df.drop(columns=['Diabetes_binary'])\n",
        "  y = df['Diabetes_binary']\n",
        "  x_train, x_test, y_train, y_test = train_test_split(x, y, test_size=0.2, random_state=10, stratify=y)\n",
        "\n",
        "  pipeline = Pipeline([\n",
        "    ('preprocessor', preprocessor_lr),\n",
        "    ('log_reg', LogisticRegression())\n",
        "  ])\n",
        "\n",
        "  pipeline.set_params(log_reg__solver='liblinear', log_reg__penalty='l2', log_reg__C=1.051624740348695, log_reg__max_iter=345)\n",
        "  pipeline.fit(x_train, y_train)\n",
        "  y_train_pred = pipeline.predict(x_train)\n",
        "  y_pred = pipeline.predict(x_test)\n",
        "  score[i] = f1_score(y_test, y_pred)\n",
        "  acc[i] = accuracy_score(y_test, y_pred)\n",
        "  rec[i] = recall_score(y_test, y_pred)\n",
        "  prec[i] = precision_score(y_test, y_pred)\n",
        "\n",
        "  score_train[i] = f1_score(y_train, y_train_pred)\n",
        "  acc_train[i] = accuracy_score(y_train, y_train_pred)\n",
        "  rec_train[i] = recall_score(y_train, y_train_pred)\n",
        "  prec_train[i] = precision_score(y_train, y_train_pred)\n",
        "\n",
        "\n",
        "print(\"MÉTRICAS DE TREINO\")\n",
        "print(\"F1_SCORE: \\n\")\n",
        "print(f\" Média -> {score_train.mean()}\")\n",
        "print(f\" Desvio Padrão -> {score.std()}\")\n",
        "print(\"\\nACCURACY: \\n\")\n",
        "print(f\" Média -> {acc_train.mean()}\")\n",
        "print(f\" Desvio Padrão -> {acc.std()}\")\n",
        "print(\"\\nRECALL: \\n\")\n",
        "print(f\" Média -> {rec_train.mean()}\")\n",
        "print(f\" Desvio Padrão -> {rec.std()}\")\n",
        "print(\"\\nPRECISION: \\n\")\n",
        "print(f\" Média -> {prec_train.mean()}\")\n",
        "print(f\" Desvio Padrão -> {prec_train.std()}\")\n",
        "print(\"\\n\\n---------------------\\n\\n\")\n",
        "print(\"MÉTRICAS DE TESTE\")\n",
        "print(\"F1_SCORE: \\n\")\n",
        "print(f\" Média -> {score.mean()}\")\n",
        "print(f\" Desvio Padrão -> {score.std()}\")\n",
        "print(\"\\nACCURACY: \\n\")\n",
        "print(f\" Média -> {acc.mean()}\")\n",
        "print(f\" Desvio Padrão -> {acc.std()}\")\n",
        "print(\"\\nRECALL: \\n\")\n",
        "print(f\" Média -> {rec.mean()}\")\n",
        "print(f\" Desvio Padrão -> {rec.std()}\")\n",
        "print(\"\\nPRECISION: \\n\")\n",
        "print(f\" Média -> {prec.mean()}\")\n",
        "print(f\" Desvio Padrão -> {prec.std()}\")"
      ],
      "metadata": {
        "colab": {
          "base_uri": "https://localhost:8080/"
        },
        "id": "GGHtERT05IUY",
        "outputId": "6d505515-d49b-4028-9d72-435582903184"
      },
      "execution_count": null,
      "outputs": [
        {
          "output_type": "stream",
          "name": "stdout",
          "text": [
            "MÉTRICAS DE TREINO\n",
            "F1_SCORE: \n",
            "\n",
            " Média -> 0.8161290322580645\n",
            " Desvio Padrão -> 1.1102230246251565e-16\n",
            "\n",
            "ACCURACY: \n",
            "\n",
            " Média -> 0.7982300884955753\n",
            " Desvio Padrão -> 2.220446049250313e-16\n",
            "\n",
            "RECALL: \n",
            "\n",
            " Média -> 0.8461538461538463\n",
            " Desvio Padrão -> 1.1102230246251565e-16\n",
            "\n",
            "PRECISION: \n",
            "\n",
            " Média -> 0.7881619937694705\n",
            " Desvio Padrão -> 1.1102230246251565e-16\n",
            "\n",
            "\n",
            "---------------------\n",
            "\n",
            "\n",
            "MÉTRICAS DE TESTE\n",
            "F1_SCORE: \n",
            "\n",
            " Média -> 0.7066666666666668\n",
            " Desvio Padrão -> 1.1102230246251565e-16\n",
            "\n",
            "ACCURACY: \n",
            "\n",
            " Média -> 0.6901408450704227\n",
            " Desvio Padrão -> 2.220446049250313e-16\n",
            "\n",
            "RECALL: \n",
            "\n",
            " Média -> 0.7066666666666668\n",
            " Desvio Padrão -> 1.1102230246251565e-16\n",
            "\n",
            "PRECISION: \n",
            "\n",
            " Média -> 0.7066666666666668\n",
            " Desvio Padrão -> 1.1102230246251565e-16\n"
          ]
        }
      ]
    },
    {
      "cell_type": "markdown",
      "source": [
        "## SVM"
      ],
      "metadata": {
        "id": "Zb74FSAy57MM"
      }
    },
    {
      "cell_type": "code",
      "source": [
        "preprocessor_svm = ColumnTransformer(\n",
        "    transformers=[\n",
        "        ('num', MinMaxScaler(), numerical_columns),\n",
        "        ('cat', OneHotEncoder(), categorical_columns),\n",
        "        ('bin', 'passthrough', binary_columns)\n",
        "    ])\n",
        "\n",
        "svm_pipeline = Pipeline([\n",
        "        ('preprocessor', preprocessor_svm),\n",
        "        ('svm', SVC())\n",
        "    ])\n"
      ],
      "metadata": {
        "id": "WodEZknx58Vk"
      },
      "execution_count": 24,
      "outputs": []
    },
    {
      "cell_type": "code",
      "source": [
        "def objective_svm(trial):\n",
        "    pipeline = Pipeline([\n",
        "        ('preprocessor', preprocessor_svm),\n",
        "        ('svm', SVC())\n",
        "    ])\n",
        "\n",
        "\n",
        "    C = trial.suggest_float('C', 0.001, 1000, log =True)\n",
        "    gamma = trial.suggest_float('gamma', 0.0001, 10, log = True)\n",
        "    kernel = trial.suggest_categorical('kernel', ['linear', 'rbf', 'poly', 'sigmoid'])\n",
        "\n",
        "    pipeline.set_params(svm__C = C, svm__gamma = gamma, svm__kernel = kernel)\n",
        "    pipeline.fit(x_train, y_train)\n",
        "\n",
        "    y_pred = pipeline.predict(x_validation)\n",
        "    score = f1_score(y_validation, y_pred)\n",
        "    return score\n",
        "\n",
        "\n",
        "\n",
        "study_svm = optuna.create_study(direction='maximize')\n",
        "study_svm.optimize(objective_svm, n_trials=100, n_jobs=-1)\n",
        "\n",
        "\n",
        "study_svm.best_params"
      ],
      "metadata": {
        "colab": {
          "base_uri": "https://localhost:8080/"
        },
        "id": "i4V3SYramcDG",
        "outputId": "df34eef8-59a3-4efa-9655-24f678b7d845"
      },
      "execution_count": null,
      "outputs": [
        {
          "output_type": "stream",
          "name": "stderr",
          "text": [
            "[I 2024-11-23 19:58:13,436] A new study created in memory with name: no-name-51192af0-0479-493b-8df6-3d5b60e0cf44\n",
            "[I 2024-11-23 19:58:15,443] Trial 1 finished with value: 0.0 and parameters: {'C': 0.22735479490946683, 'gamma': 0.00844163735620407, 'kernel': 'poly'}. Best is trial 1 with value: 0.0.\n",
            "[I 2024-11-23 19:58:19,028] Trial 2 finished with value: 0.0 and parameters: {'C': 0.031021005264304347, 'gamma': 0.10470680909686261, 'kernel': 'poly'}. Best is trial 1 with value: 0.0.\n",
            "[I 2024-11-23 19:58:21,551] Trial 3 finished with value: 0.0 and parameters: {'C': 1.0893027338860712, 'gamma': 0.002648728696249403, 'kernel': 'poly'}. Best is trial 1 with value: 0.0.\n",
            "[I 2024-11-23 19:58:24,575] Trial 4 finished with value: 0.0 and parameters: {'C': 0.1930539506310708, 'gamma': 0.00026267176680971145, 'kernel': 'linear'}. Best is trial 1 with value: 0.0.\n",
            "[I 2024-11-23 19:58:27,392] Trial 5 finished with value: 0.0 and parameters: {'C': 0.004194158306959299, 'gamma': 0.018063168905382534, 'kernel': 'sigmoid'}. Best is trial 1 with value: 0.0.\n",
            "[I 2024-11-23 19:58:42,867] Trial 6 finished with value: 0.05240174672489083 and parameters: {'C': 244.01936590466428, 'gamma': 1.11329364896847, 'kernel': 'rbf'}. Best is trial 6 with value: 0.05240174672489083.\n",
            "[I 2024-11-23 19:58:46,964] Trial 7 finished with value: 0.2076923076923077 and parameters: {'C': 0.8283822722903242, 'gamma': 0.13338695420489474, 'kernel': 'poly'}. Best is trial 7 with value: 0.2076923076923077.\n",
            "[I 2024-11-23 19:58:52,836] Trial 8 finished with value: 0.0 and parameters: {'C': 5.0917079753874255, 'gamma': 0.005222180593696158, 'kernel': 'linear'}. Best is trial 7 with value: 0.2076923076923077.\n",
            "[I 2024-11-23 19:58:54,535] Trial 9 finished with value: 0.0 and parameters: {'C': 6.480200378569474, 'gamma': 0.00014198589888359412, 'kernel': 'poly'}. Best is trial 7 with value: 0.2076923076923077.\n",
            "[I 2024-11-23 19:59:02,846] Trial 10 finished with value: 0.0 and parameters: {'C': 32.79677978920082, 'gamma': 0.004975493778288522, 'kernel': 'sigmoid'}. Best is trial 7 with value: 0.2076923076923077.\n",
            "[I 2024-11-23 19:59:13,456] Trial 11 finished with value: 0.0 and parameters: {'C': 0.00818891073074176, 'gamma': 8.389013849207904, 'kernel': 'rbf'}. Best is trial 7 with value: 0.2076923076923077.\n",
            "[I 2024-11-23 19:59:21,804] Trial 12 finished with value: 0.25219941348973607 and parameters: {'C': 789.360954525888, 'gamma': 0.49219950908051285, 'kernel': 'rbf'}. Best is trial 12 with value: 0.25219941348973607.\n",
            "[I 2024-11-23 19:59:31,188] Trial 13 finished with value: 0.3431372549019608 and parameters: {'C': 902.64308778981, 'gamma': 0.16239842638631508, 'kernel': 'rbf'}. Best is trial 13 with value: 0.3431372549019608.\n",
            "[I 2024-11-23 19:59:44,199] Trial 14 finished with value: 0.1015625 and parameters: {'C': 525.3670067995754, 'gamma': 0.7968896093838932, 'kernel': 'rbf'}. Best is trial 13 with value: 0.3431372549019608.\n",
            "[I 2024-11-23 19:59:57,062] Trial 15 finished with value: 0.1901639344262295 and parameters: {'C': 946.4067382194125, 'gamma': 0.6145321295702373, 'kernel': 'rbf'}. Best is trial 13 with value: 0.3431372549019608.\n",
            "[I 2024-11-23 20:00:26,701] Trial 16 finished with value: 0.05405405405405406 and parameters: {'C': 75.63121878950744, 'gamma': 4.246477461061694, 'kernel': 'rbf'}. Best is trial 13 with value: 0.3431372549019608.\n",
            "[I 2024-11-23 20:00:36,894] Trial 17 finished with value: 0.32171581769436997 and parameters: {'C': 46.78907544005244, 'gamma': 0.1383101816549568, 'kernel': 'rbf'}. Best is trial 13 with value: 0.3431372549019608.\n",
            "[I 2024-11-23 20:00:48,407] Trial 18 finished with value: 0.2783171521035599 and parameters: {'C': 59.92438774749303, 'gamma': 0.05743318144713479, 'kernel': 'rbf'}. Best is trial 13 with value: 0.3431372549019608.\n",
            "[I 2024-11-23 20:00:55,090] Trial 19 finished with value: 0.2881844380403458 and parameters: {'C': 13.671597511437824, 'gamma': 0.22882714470776352, 'kernel': 'rbf'}. Best is trial 13 with value: 0.3431372549019608.\n",
            "[I 2024-11-23 20:01:01,624] Trial 20 finished with value: 0.3740648379052369 and parameters: {'C': 208.8858359628423, 'gamma': 0.025502237971174083, 'kernel': 'sigmoid'}. Best is trial 20 with value: 0.3740648379052369.\n",
            "[I 2024-11-23 20:01:04,549] Trial 21 finished with value: 0.0 and parameters: {'C': 250.81233090654231, 'gamma': 0.0009262295736469421, 'kernel': 'sigmoid'}. Best is trial 20 with value: 0.3740648379052369.\n",
            "[I 2024-11-23 20:01:08,424] Trial 22 finished with value: 0.36585365853658536 and parameters: {'C': 133.11946148307086, 'gamma': 0.03228618533462286, 'kernel': 'sigmoid'}. Best is trial 20 with value: 0.3740648379052369.\n",
            "[I 2024-11-23 20:01:13,279] Trial 23 finished with value: 0.3690773067331671 and parameters: {'C': 157.08985701511, 'gamma': 0.027126258621579566, 'kernel': 'sigmoid'}. Best is trial 20 with value: 0.3740648379052369.\n",
            "[I 2024-11-23 20:01:17,671] Trial 24 finished with value: 0.3694581280788177 and parameters: {'C': 146.3791235505525, 'gamma': 0.023447021783299295, 'kernel': 'sigmoid'}. Best is trial 20 with value: 0.3740648379052369.\n",
            "[I 2024-11-23 20:01:23,355] Trial 25 finished with value: 0.07174887892376682 and parameters: {'C': 16.633033310499737, 'gamma': 0.019010641341843607, 'kernel': 'sigmoid'}. Best is trial 20 with value: 0.3740648379052369.\n",
            "[I 2024-11-23 20:01:51,065] Trial 26 finished with value: 0.0 and parameters: {'C': 205.0427007099593, 'gamma': 0.0015909388462495588, 'kernel': 'sigmoid'}. Best is trial 20 with value: 0.3740648379052369.\n",
            "[I 2024-11-23 20:01:56,434] Trial 27 finished with value: 0.15671641791044777 and parameters: {'C': 2.5167493747170164, 'gamma': 0.046400179037074295, 'kernel': 'sigmoid'}. Best is trial 20 with value: 0.3740648379052369.\n",
            "[I 2024-11-23 20:02:03,248] Trial 28 finished with value: 0.0 and parameters: {'C': 20.013244151089598, 'gamma': 0.013218290299021725, 'kernel': 'sigmoid'}. Best is trial 20 with value: 0.3740648379052369.\n",
            "[I 2024-11-23 20:02:06,072] Trial 29 finished with value: 0.0 and parameters: {'C': 101.4808627961759, 'gamma': 0.0007087667651112544, 'kernel': 'sigmoid'}. Best is trial 20 with value: 0.3740648379052369.\n",
            "[I 2024-11-23 20:02:08,929] Trial 30 finished with value: 0.0 and parameters: {'C': 0.11113095836462623, 'gamma': 0.007187821788101344, 'kernel': 'sigmoid'}. Best is trial 20 with value: 0.3740648379052369.\n",
            "[I 2024-11-23 20:02:16,058] Trial 31 finished with value: 0.0 and parameters: {'C': 7.9484650667158, 'gamma': 0.06128744129180333, 'kernel': 'linear'}. Best is trial 20 with value: 0.3740648379052369.\n",
            "[I 2024-11-23 20:02:20,067] Trial 32 finished with value: 0.37593984962406013 and parameters: {'C': 165.95337664088618, 'gamma': 0.024468806409998854, 'kernel': 'sigmoid'}. Best is trial 32 with value: 0.37593984962406013.\n",
            "[I 2024-11-23 20:02:28,606] Trial 33 finished with value: 0.24390243902439024 and parameters: {'C': 320.15443790461944, 'gamma': 0.013924440290545223, 'kernel': 'sigmoid'}. Best is trial 32 with value: 0.37593984962406013.\n",
            "[I 2024-11-23 20:02:44,891] Trial 34 finished with value: 0.0 and parameters: {'C': 124.84625127732413, 'gamma': 0.002823989109278994, 'kernel': 'sigmoid'}. Best is trial 32 with value: 0.37593984962406013.\n",
            "[I 2024-11-23 20:02:48,968] Trial 35 finished with value: 0.22691292875989447 and parameters: {'C': 31.642504606100026, 'gamma': 0.03176471517202192, 'kernel': 'sigmoid'}. Best is trial 32 with value: 0.37593984962406013.\n",
            "[I 2024-11-23 20:02:58,279] Trial 36 finished with value: 0.3400576368876081 and parameters: {'C': 398.57632583405336, 'gamma': 0.010068453476832832, 'kernel': 'sigmoid'}. Best is trial 32 with value: 0.37593984962406013.\n",
            "[I 2024-11-23 20:03:03,751] Trial 37 finished with value: 0.1951219512195122 and parameters: {'C': 0.9215082996337689, 'gamma': 0.08434934626284692, 'kernel': 'sigmoid'}. Best is trial 32 with value: 0.37593984962406013.\n",
            "[I 2024-11-23 20:03:22,808] Trial 38 finished with value: 0.30569948186528495 and parameters: {'C': 2.4674717656148917, 'gamma': 0.31684769060347273, 'kernel': 'poly'}. Best is trial 32 with value: 0.37593984962406013.\n",
            "[I 2024-11-23 20:03:26,559] Trial 39 finished with value: 0.0 and parameters: {'C': 0.001364151412657595, 'gamma': 0.0031367150424327487, 'kernel': 'sigmoid'}. Best is trial 32 with value: 0.37593984962406013.\n"
          ]
        }
      ]
    },
    {
      "cell_type": "markdown",
      "source": [
        "'C': 165.95337664088618, 'gamma': 0.024468806409998854, 'kernel': 'sigmoid'"
      ],
      "metadata": {
        "id": "xOk159dZsBwV"
      }
    },
    {
      "cell_type": "code",
      "source": [
        "score = np.zeros(30)\n",
        "acc = np.zeros(30)\n",
        "rec = np.zeros(30)\n",
        "prec = np.zeros(30)\n",
        "score_train = np.zeros(30)\n",
        "acc_train = np.zeros(30)\n",
        "rec_train = np.zeros(30)\n",
        "prec_train = np.zeros(30)\n",
        "\n",
        "for i in range(30):\n",
        "  df = data.sample(frac=1, random_state=42)\n",
        "  x = df.drop(columns=['Diabetes_binary'])\n",
        "  y = df['Diabetes_binary']\n",
        "  x_train, x_test, y_train, y_test = train_test_split(x, y, test_size=0.2, random_state=10, stratify=y)\n",
        "\n",
        "  pipeline = Pipeline([\n",
        "    ('preprocessor', preprocessor_svm),\n",
        "    ('svm', SVC())\n",
        "  ])\n",
        "  C = 165.95337664088618\n",
        "  gamma = 0.024468806409998854\n",
        "  kernel = 'sigmoid'\n",
        "  pipeline.set_params(svm__C = C, svm__gamma = gamma, svm__kernel = kernel)\n",
        "  pipeline.fit(x_train, y_train)\n",
        "\n",
        "\n",
        "  y_train_pred = pipeline.predict(x_train)\n",
        "  y_pred = pipeline.predict(x_test)\n",
        "  score[i] = f1_score(y_test, y_pred)\n",
        "  acc[i] = accuracy_score(y_test, y_pred)\n",
        "  rec[i] = recall_score(y_test, y_pred)\n",
        "  prec[i] = precision_score(y_test, y_pred)\n",
        "\n",
        "  score_train[i] = f1_score(y_train, y_train_pred)\n",
        "  acc_train[i] = accuracy_score(y_train, y_train_pred)\n",
        "  rec_train[i] = recall_score(y_train, y_train_pred)\n",
        "  prec_train[i] = precision_score(y_train, y_train_pred)\n",
        "\n",
        "\n",
        "print(\"MÉTRICAS DE TREINO\")\n",
        "print(\"F1_SCORE: \\n\")\n",
        "print(f\" Média -> {score_train.mean()}\")\n",
        "print(f\" Desvio Padrão -> {score.std()}\")\n",
        "print(\"\\nACCURACY: \\n\")\n",
        "print(f\" Média -> {acc_train.mean()}\")\n",
        "print(f\" Desvio Padrão -> {acc.std()}\")\n",
        "print(\"\\nRECALL: \\n\")\n",
        "print(f\" Média -> {rec_train.mean()}\")\n",
        "print(f\" Desvio Padrão -> {rec.std()}\")\n",
        "print(\"\\nPRECISION: \\n\")\n",
        "print(f\" Média -> {prec_train.mean()}\")\n",
        "print(f\" Desvio Padrão -> {prec_train.std()}\")\n",
        "print(\"\\n\\n---------------------\\n\\n\")\n",
        "print(\"MÉTRICAS DE TESTE\")\n",
        "print(\"F1_SCORE: \\n\")\n",
        "print(f\" Média -> {score.mean()}\")\n",
        "print(f\" Desvio Padrão -> {score.std()}\")\n",
        "print(\"\\nACCURACY: \\n\")\n",
        "print(f\" Média -> {acc.mean()}\")\n",
        "print(f\" Desvio Padrão -> {acc.std()}\")\n",
        "print(\"\\nRECALL: \\n\")\n",
        "print(f\" Média -> {rec.mean()}\")\n",
        "print(f\" Desvio Padrão -> {rec.std()}\")\n",
        "print(\"\\nPRECISION: \\n\")\n",
        "print(f\" Média -> {prec.mean()}\")\n",
        "print(f\" Desvio Padrão -> {prec.std()}\")"
      ],
      "metadata": {
        "id": "4XYmawE9sEIC"
      },
      "execution_count": null,
      "outputs": []
    }
  ]
}